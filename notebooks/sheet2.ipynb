{
 "cells": [
  {
   "cell_type": "markdown",
   "metadata": {},
   "source": [
    "This notebook was prepared by the TA Johannes Lauritsen in F19."
   ]
  },
  {
   "cell_type": "code",
   "execution_count": 1,
   "metadata": {},
   "outputs": [],
   "source": [
    "import numpy as np\n",
    "import sympy as sy\n",
    "\n",
    "from fractions import Fraction as f\n",
    "np.set_printoptions(precision=3,suppress=True)\n",
    "\n",
    "def printm(a):\n",
    "    \"\"\"Prints the array as strings \n",
    "    :a: numpy array\n",
    "    :returns: prints the array\n",
    "    \"\"\"\n",
    "    def p(x):\n",
    "        return str(x)\n",
    "    p = vectorize(p,otypes=[str])\n",
    "    print(p(a))\n",
    "    \n",
    "def tableau(a,W=7):\n",
    "    \"\"\"Returns a string for verbatim printing\n",
    "    :a: numpy array\n",
    "    :returns: a string\n",
    "    \"\"\"\n",
    "    if len(a.shape) != 2:\n",
    "        raise ValueError('verbatim displays two dimensions')\n",
    "    rv = []\n",
    "    rv+=[r'|'+'+'.join('{:-^{width}}'.format('',width=W) for i in range(a.shape[1]))+\"+\"]\n",
    "    rv+=[r'|'+'|'.join(map(lambda i: '{0:>{width}}'.format(\"x\"+str(i+1)+\" \",width=W), range(a.shape[1]-2)) )+\"|\"+\n",
    "         '{0:>{width}}'.format(\"-z \",width=W)+\"|\"\n",
    "         '{0:>{width}}'.format(\"b \",width=W)+\"|\"]\n",
    "    rv+=[r'|'+'+'.join('{:-^{width}}'.format('',width=W) for i in range(a.shape[1]))+\"+\"]\n",
    "    for i in range(a.shape[0]-1):\n",
    "        rv += [r'| '+' | '.join(['{0:>{width}}'.format(str(a[i,j]),width=W-2) for j in range(a.shape[1])])+\" |\"]\n",
    "    rv+=[r'|'+'+'.join('{:-^{width}}'.format('',width=W) for i in range(a.shape[1]))+\"+\"]\n",
    "    i = a.shape[0]-1\n",
    "    rv += [r'| '+' | '.join(['{0:>{width}}'.format(str(a[i,j]),width=W-2) for j in range(a.shape[1])])+\" |\"]\n",
    "    rv+=[r'|'+'+'.join('{:-^{width}}'.format('',width=W) for i in range(a.shape[1]))+\"+\"]\n",
    "    print('\\n'.join(rv))"
   ]
  },
  {
   "cell_type": "markdown",
   "metadata": {},
   "source": [
    "# Exercise 1"
   ]
  },
  {
   "cell_type": "markdown",
   "metadata": {},
   "source": [
    "Find all basic feasible solutions. Find a basis $B$ of size m, s.t.  $x_B=A^{-1}_Bb\\ge 0$, so $A_B$ must be non-singular.\n",
    "\n",
    "- Create all 3-combinations of 7 numbers. This is the set of all possible B's\n",
    "\n",
    "- Check if $A_B^{-1}$ exist.\n",
    "\n",
    "- $x_B=A^{-1}_Bb$ each $x_i\\ge0$ for $i\\in B$."
   ]
  },
  {
   "cell_type": "code",
   "execution_count": 2,
   "metadata": {},
   "outputs": [
    {
     "name": "stdout",
     "output_type": "stream",
     "text": [
      "_______________________\n",
      "\n",
      "B = (0, 1, 2)\n",
      "x = [1. 1. 1.]\n",
      "_______________________\n",
      "\n",
      "B = (0, 1, 6)\n",
      "x = [1.5 1.  1. ]\n",
      "_______________________\n",
      "\n",
      "B = (0, 2, 3)\n",
      "x = [2.  1.  0.5]\n",
      "_______________________\n",
      "\n",
      "B = (0, 2, 5)\n",
      "x = [1. 1. 1.]\n",
      "_______________________\n",
      "\n",
      "B = (0, 3, 6)\n",
      "x = [2.5 0.5 1. ]\n",
      "_______________________\n",
      "\n",
      "B = (0, 5, 6)\n",
      "x = [1.5 1.  1. ]\n",
      "_______________________\n",
      "\n",
      "B = (1, 2, 4)\n",
      "x = [1. 1. 2.]\n",
      "_______________________\n",
      "\n",
      "B = (1, 4, 6)\n",
      "x = [1. 3. 1.]\n",
      "_______________________\n",
      "\n",
      "B = (2, 3, 4)\n",
      "x = [1.  0.5 4. ]\n",
      "_______________________\n",
      "\n",
      "B = (2, 4, 5)\n",
      "x = [1. 2. 1.]\n",
      "_______________________\n",
      "\n",
      "B = (3, 4, 6)\n",
      "x = [0.5 5.  1. ]\n",
      "_______________________\n",
      "\n",
      "B = (4, 5, 6)\n",
      "x = [3. 1. 1.]\n"
     ]
    }
   ],
   "source": [
    "import scipy.linalg as la\n",
    "import itertools as itertools\n",
    "\n",
    "A = np.array([[2,0,1,-4],[0,1,0,2],[0,0,1,0]]) \n",
    "I = np.identity(3) \n",
    "A = np.concatenate([A,I],axis=1) \n",
    "b = np.array([3,1,1])\n",
    "\n",
    "for e in itertools.combinations(range(7),3):\n",
    "    if(la.det(A[:,e]) != 0):      \n",
    "        x = np.dot(la.inv(A[:,e]),b) # la.inv(A[:,e]) @ b  \n",
    "        if(any(x<0)==False):\n",
    "            print(\"_______________________\")\n",
    "            print()\n",
    "            print(\"B =\",e)\n",
    "            print(\"x =\",x)"
   ]
  },
  {
   "cell_type": "markdown",
   "metadata": {},
   "source": [
    "# Exercise 2"
   ]
  },
  {
   "cell_type": "markdown",
   "metadata": {},
   "source": [
    "$\\bullet$ We add the slack variables $x_4,x_5,x_6$ with $I=\\{1,...,6\\}$ and the equational standard form will be:\n",
    "\n",
    "__The LP model:__\n",
    "\n",
    "$\\begin{aligned} \\text{max} & \\qquad  2x_1+4x_2-x_3 &  \\\\\n",
    "\\text{s.t} & \\qquad  2x_1-x_3+x_4  = 6 &  \\\\\n",
    "& \\qquad 3x_2-x_3+x_5   = 9 &  \\\\\n",
    "& \\qquad x_1+x_2+x_6   = 4 &  \\\\\n",
    "& \\qquad x_i   \\ge 0 & \\forall i \\in \\{1,...,6\\}  \\\\\n",
    "\\end{aligned}$\n",
    "\n"
   ]
  },
  {
   "cell_type": "markdown",
   "metadata": {},
   "source": [
    "The first simplex tableau:\n",
    "\n",
    "| _ | $x_1$ | $x_2$ | $x_3$ | $x_4$ | $x_5$ | $x_6$ | $-z$ | $b$ |\n",
    "|---|-----|-----|-----|-----|-----|----|---|---|\n",
    "| $x_4$| 2   | 0   | -1   | 1   | 0   | 0   | 0  | 6 |\n",
    "| $x_5$| 0   | 3    |  -1   |  0   |   1  |  0  | 0  |  9 |\n",
    "| $x_6$| 1   |   1  |   0  |  0   |  0   | 1   |  0 |  4 |\n",
    "| _ | 2    |  4   |  -1   |   0  |   0  |  0  |  1 | 0 |\n",
    "\n"
   ]
  },
  {
   "cell_type": "markdown",
   "metadata": {},
   "source": [
    "$\\bullet$ $x_2$ has a reduced cost $>0$. Then the pivot column: 2. We find $r$ : \n",
    "\n",
    "$r = argmin_i \\left\\{ \\frac{b_i}{a_{is}}: \\ a_{is}>0 \\right\\}$\n"
   ]
  },
  {
   "cell_type": "code",
   "execution_count": 3,
   "metadata": {},
   "outputs": [
    {
     "name": "stdout",
     "output_type": "stream",
     "text": [
      "3.0\n",
      "4.0\n"
     ]
    }
   ],
   "source": [
    "print(9/3)\n",
    "print(4/1)"
   ]
  },
  {
   "cell_type": "markdown",
   "metadata": {},
   "source": [
    "Then $r=3$ which is $i=2$ and the we have pivot row: 2."
   ]
  },
  {
   "cell_type": "code",
   "execution_count": 4,
   "metadata": {},
   "outputs": [
    {
     "name": "stdout",
     "output_type": "stream",
     "text": [
      "|-------+-------+-------+-------+-------+-------+-------+-------+\n",
      "|    x1 |    x2 |    x3 |    x4 |    x5 |    x6 |    -z |     b |\n",
      "|-------+-------+-------+-------+-------+-------+-------+-------+\n",
      "|     2 |     0 |    -1 |     1 |     0 |     0 |     0 |     6 |\n",
      "|     0 |     3 |    -1 |     0 |     1 |     0 |     0 |     9 |\n",
      "|     1 |     1 |     0 |     0 |     0 |     1 |     0 |     4 |\n",
      "|-------+-------+-------+-------+-------+-------+-------+-------+\n",
      "|     2 |     4 |    -1 |     0 |     0 |     0 |     1 |     0 |\n",
      "|-------+-------+-------+-------+-------+-------+-------+-------+\n"
     ]
    }
   ],
   "source": [
    "A = np.array([[f(2,1),0,-1,1,0,0,0,6],\n",
    "           [0,3,-1,0,1,0,0,9],[1,1,0,0,0,1,0,4],[2,4,-1,0,0,0,1,0]])\n",
    "tableau(A)"
   ]
  },
  {
   "cell_type": "code",
   "execution_count": 5,
   "metadata": {},
   "outputs": [
    {
     "name": "stdout",
     "output_type": "stream",
     "text": [
      "|-------+-------+-------+-------+-------+-------+-------+-------+\n",
      "|    x1 |    x2 |    x3 |    x4 |    x5 |    x6 |    -z |     b |\n",
      "|-------+-------+-------+-------+-------+-------+-------+-------+\n",
      "|     2 |     0 |    -1 |     1 |     0 |     0 |     0 |     6 |\n",
      "|     0 |     1 |  -1/3 |     0 |   1/3 |     0 |     0 |     3 |\n",
      "|     1 |     0 |   1/3 |     0 |  -1/3 |     1 |     0 |     1 |\n",
      "|-------+-------+-------+-------+-------+-------+-------+-------+\n",
      "|     2 |     0 |   1/3 |     0 |  -4/3 |     0 |     1 |   -12 |\n",
      "|-------+-------+-------+-------+-------+-------+-------+-------+\n"
     ]
    }
   ],
   "source": [
    "A[1,:]=f(1,3)*A[1,:]\n",
    "A[2,:]=A[2,:]-A[1,:]\n",
    "A[3,:]=A[3,:]-4*A[1,:]\n",
    "tableau(A)"
   ]
  },
  {
   "cell_type": "markdown",
   "metadata": {},
   "source": [
    "$ \\bullet$ This is the optimal solution since the reduced costs are non-positive."
   ]
  },
  {
   "cell_type": "code",
   "execution_count": 6,
   "metadata": {},
   "outputs": [
    {
     "name": "stdout",
     "output_type": "stream",
     "text": [
      "3.0\n",
      "1.0\n"
     ]
    }
   ],
   "source": [
    "print(6/2)\n",
    "print(1/1)"
   ]
  },
  {
   "cell_type": "markdown",
   "metadata": {},
   "source": [
    "Pivot: Column: 1, row: 3"
   ]
  },
  {
   "cell_type": "code",
   "execution_count": 7,
   "metadata": {},
   "outputs": [
    {
     "name": "stdout",
     "output_type": "stream",
     "text": [
      "|-------+-------+-------+-------+-------+-------+-------+-------+\n",
      "|    x1 |    x2 |    x3 |    x4 |    x5 |    x6 |    -z |     b |\n",
      "|-------+-------+-------+-------+-------+-------+-------+-------+\n",
      "|     0 |     0 |  -5/3 |     1 |   2/3 |    -2 |     0 |     4 |\n",
      "|     0 |     1 |  -1/3 |     0 |   1/3 |     0 |     0 |     3 |\n",
      "|     1 |     0 |   1/3 |     0 |  -1/3 |     1 |     0 |     1 |\n",
      "|-------+-------+-------+-------+-------+-------+-------+-------+\n",
      "|     0 |     0 |  -1/3 |     0 |  -2/3 |    -2 |     1 |   -14 |\n",
      "|-------+-------+-------+-------+-------+-------+-------+-------+\n"
     ]
    }
   ],
   "source": [
    "A[0,:]=A[0,:]-2*A[2,:]\n",
    "A[3,:]=A[3,:]-2*A[2,:]\n",
    "tableau(A)"
   ]
  },
  {
   "cell_type": "markdown",
   "metadata": {},
   "source": [
    "$x_1=1$\n",
    "\n",
    "$x_2=3$\n",
    "\n",
    "$x_3=0$\n",
    "\n",
    "$x_4=4$\n",
    "\n",
    "$x_5=0$\n",
    "\n",
    "$x_6=0$\n",
    "\n",
    "$z = 14$"
   ]
  },
  {
   "cell_type": "markdown",
   "metadata": {},
   "source": [
    "# Exercise 3"
   ]
  },
  {
   "cell_type": "code",
   "execution_count": 8,
   "metadata": {},
   "outputs": [
    {
     "name": "stdout",
     "output_type": "stream",
     "text": [
      "|-------+-------+-------+-------+-------+-------+-------+-------+\n",
      "|    x1 |    x2 |    x3 |    x4 |    x5 |    x6 |    -z |     b |\n",
      "|-------+-------+-------+-------+-------+-------+-------+-------+\n",
      "|     2 |     3 |     1 |     1 |     0 |     0 |     0 |     5 |\n",
      "|     4 |     1 |     2 |     0 |     1 |     0 |     0 |    11 |\n",
      "|     3 |     4 |     2 |     0 |     0 |     1 |     0 |     8 |\n",
      "|-------+-------+-------+-------+-------+-------+-------+-------+\n",
      "|     5 |     4 |     3 |     0 |     0 |     0 |     1 |     0 |\n",
      "|-------+-------+-------+-------+-------+-------+-------+-------+\n"
     ]
    }
   ],
   "source": [
    "A=np.array([[2,f(3,1),1,1,0,0,0,5],\n",
    "         [4,1,2,0,1,0,0,11],\n",
    "         [3,4,2,0,0,1,0,8],\n",
    "         [5,4,3,0,0,0,1,0]])\n",
    "tableau(A) "
   ]
  },
  {
   "cell_type": "markdown",
   "metadata": {},
   "source": [
    "Let $x_1$ enter."
   ]
  },
  {
   "cell_type": "markdown",
   "metadata": {},
   "source": [
    "$r = argmin_i \\left\\{ \\frac{b_i}{a_{is}}: \\ a_{is}>0 \\right\\}$\n",
    "\n",
    "Find pivot."
   ]
  },
  {
   "cell_type": "code",
   "execution_count": 9,
   "metadata": {},
   "outputs": [
    {
     "name": "stdout",
     "output_type": "stream",
     "text": [
      "2.5\n",
      "2.75\n",
      "2.6666666666666665\n"
     ]
    }
   ],
   "source": [
    "print(5/2)\n",
    "print(11/4)\n",
    "print(8/3)"
   ]
  },
  {
   "cell_type": "markdown",
   "metadata": {},
   "source": [
    "The pivot is column 1 row 1 with value: $r=2$ Let $x_4$ leave."
   ]
  },
  {
   "cell_type": "code",
   "execution_count": 10,
   "metadata": {},
   "outputs": [
    {
     "name": "stdout",
     "output_type": "stream",
     "text": [
      "|-------+-------+-------+-------+-------+-------+-------+-------+\n",
      "|    x1 |    x2 |    x3 |    x4 |    x5 |    x6 |    -z |     b |\n",
      "|-------+-------+-------+-------+-------+-------+-------+-------+\n",
      "|     1 |   3/2 |   1/2 |   1/2 |     0 |     0 |     0 |   5/2 |\n",
      "|     0 |    -5 |     0 |    -2 |     1 |     0 |     0 |     1 |\n",
      "|     0 |  -1/2 |   1/2 |  -3/2 |     0 |     1 |     0 |   1/2 |\n",
      "|-------+-------+-------+-------+-------+-------+-------+-------+\n",
      "|     0 |  -7/2 |   1/2 |  -5/2 |     0 |     0 |     1 | -25/2 |\n",
      "|-------+-------+-------+-------+-------+-------+-------+-------+\n"
     ]
    }
   ],
   "source": [
    "A[0,:] = f(1,2)*A[0,:] \n",
    "A[1,:] = A[1,:]-4*A[0,:] \n",
    "A[2,:] = A[2,:]-3*A[0,:] \n",
    "A[3,:] = A[3,:]-5*A[0,:] \n",
    "tableau(A)"
   ]
  },
  {
   "cell_type": "markdown",
   "metadata": {},
   "source": [
    "Find new pivot. Let $x_3$ enter."
   ]
  },
  {
   "cell_type": "code",
   "execution_count": 11,
   "metadata": {},
   "outputs": [
    {
     "name": "stdout",
     "output_type": "stream",
     "text": [
      "5\n",
      "1\n"
     ]
    }
   ],
   "source": [
    "print(f(5,2)/f(1,2))\n",
    "print(f(1,2)/f(1,2))"
   ]
  },
  {
   "cell_type": "markdown",
   "metadata": {},
   "source": [
    "So the pivot column is 3 and pivot row is 3 with pivot value $1/2$. Let $x_6$ leave."
   ]
  },
  {
   "cell_type": "code",
   "execution_count": 12,
   "metadata": {},
   "outputs": [
    {
     "name": "stdout",
     "output_type": "stream",
     "text": [
      "|-------+-------+-------+-------+-------+-------+-------+-------+\n",
      "|    x1 |    x2 |    x3 |    x4 |    x5 |    x6 |    -z |     b |\n",
      "|-------+-------+-------+-------+-------+-------+-------+-------+\n",
      "|     1 |     2 |     0 |     2 |     0 |    -1 |     0 |     2 |\n",
      "|     0 |    -5 |     0 |    -2 |     1 |     0 |     0 |     1 |\n",
      "|     0 |    -1 |     1 |    -3 |     0 |     2 |     0 |     1 |\n",
      "|-------+-------+-------+-------+-------+-------+-------+-------+\n",
      "|     0 |    -3 |     0 |    -1 |     0 |    -1 |     1 |   -13 |\n",
      "|-------+-------+-------+-------+-------+-------+-------+-------+\n"
     ]
    }
   ],
   "source": [
    "A[2,:]=2*A[2,:]\n",
    "A[0,:]=A[0,:]-f(1,2)*A[2,:]\n",
    "A[3,:]=A[3,:]-f(1,2)*A[2,:]\n",
    "tableau(A)"
   ]
  },
  {
   "cell_type": "markdown",
   "metadata": {},
   "source": [
    "$x_1 = 2$\n",
    "\n",
    "$x_3 = 1$\n",
    "\n",
    "$x_5 = 1$\n",
    "\n",
    "$z = 13$"
   ]
  },
  {
   "cell_type": "markdown",
   "metadata": {},
   "source": [
    "# Exercise 4"
   ]
  },
  {
   "cell_type": "markdown",
   "metadata": {},
   "source": [
    "\n",
    "Initial soluition of simplex is $x_1,x_2=0$, the clairvoyant rule say we should take the shortests path. If we take $x_2$ into basis we get a path of 4 arcs. \n",
    "\n",
    "If we put $x_1$ into basis, we get a path of 6 arcs."
   ]
  },
  {
   "cell_type": "markdown",
   "metadata": {},
   "source": [
    "![title](test3.PNG)"
   ]
  },
  {
   "cell_type": "markdown",
   "metadata": {},
   "source": [
    "# Exercise 5"
   ]
  },
  {
   "cell_type": "markdown",
   "metadata": {},
   "source": [
    "Let $I=\\{A,B,C,D,E,F\\}$ be the set of activities. Let $x_i$ be the amount of weeks we want to shorten activity $i$. Let $y_i$ be the earliest activity $i\\in I$ can start. Let $y_{end}\\le 19$ denote the ending activity. The objective is to minimize the cost of shortening the duration of each activity. Let $d_i$ be the normal time that activity $i$ starts, then we add the constraints: $y_j\\ge y_i+(d_i-x_i)$  for each arc $i\\rightarrow j$ such that activity $j$ cannot start before all predecessors $i$ have finished.\n",
    "\n"
   ]
  },
  {
   "cell_type": "markdown",
   "metadata": {},
   "source": [
    "__The LP model:__\n",
    "\n",
    "$\\begin{aligned} \\text{min} & \\qquad  6x_A+10x_B+8x_D+8x_E+3x_F &  \\\\\n",
    "\\text{s.t} & \\qquad y_C   \\ge y_A+(7-x_A) &  \\\\\n",
    "& \\qquad y_C   \\ge y_B+(10-x_B) &  \\\\\n",
    "& \\qquad y_D   \\ge y_A+(7-x_A) &  \\\\\n",
    "& \\qquad y_D   \\ge y_B+(10-x_B) &  \\\\\n",
    "& \\qquad y_E   \\ge y_C+5 &  \\\\\n",
    "& \\qquad y_E   \\ge y_D+(3-x_D) &  \\\\\n",
    "& \\qquad y_F   \\ge y_C+5 &  \\\\\n",
    "& \\qquad y_F   \\ge y_D+(3-x_D) &  \\\\\n",
    "& \\qquad y_{end}   \\ge y_E+(8-x_E) &  \\\\\n",
    "& \\qquad y_{end}   \\ge y_F+(7-x_F) &  \\\\\n",
    "& \\qquad y_{end}   \\le 19 &  \\\\\n",
    "& \\qquad x_A   \\le 2 &  \\\\\n",
    "& \\qquad x_B   \\le 5 &  \\\\\n",
    "& \\qquad x_C   \\le 0 &  \\\\\n",
    "& \\qquad x_D   \\le 2 &  \\\\\n",
    "& \\qquad x_E   \\le 2 &  \\\\\n",
    "& \\qquad x_F   \\le 3 &  \\\\\n",
    "& \\qquad x_i   \\ge 0 & \\forall i \\in I  \\\\\n",
    "& \\qquad y_i,y_{end}   \\ge 0 & \\forall i \\in I \\\\\n",
    "\\end{aligned}$"
   ]
  },
  {
   "cell_type": "code",
   "execution_count": 13,
   "metadata": {},
   "outputs": [
    {
     "name": "stdout",
     "output_type": "stream",
     "text": [
      "obj:  38.0\n",
      "\n",
      "y[0] = 0.0\n",
      "y[1] = 0.0\n",
      "y[2] = 7.0\n",
      "y[3] = 8.0\n",
      "y[4] = 12.0\n",
      "y[5] = 12.0\n",
      "y[6] = 19.0\n",
      "\n",
      "x[0] = 0.0\n",
      "x[1] = 3.0\n",
      "x[2] = 0.0\n",
      "x[3] = 0.0\n",
      "x[4] = 1.0\n",
      "x[5] = 0.0\n"
     ]
    }
   ],
   "source": [
    "from pyscipopt import *\n",
    "import numpy as np\n",
    "m = Model(\"activity\")\n",
    "c = [6,10,0,8,8,3]\n",
    "b = [2,5,0,2,2,3]\n",
    "ir = range(6)\n",
    "# ir = [A,B,C,D,E,F]\n",
    "# ir = [0,1,2,3,4,5]\n",
    "jr = range(7)\n",
    "x = {}\n",
    "y = {}\n",
    "# Variables\n",
    "for i in ir:\n",
    "    x[i] = m.addVar(vtype = \"C\", name = \"x(%s)\" % i)   \n",
    "for j in jr:\n",
    "    y[j] = m.addVar(vtype = \"C\", name = \"x(%s)\" % j)\n",
    "# Objective\n",
    "m.setObjective(quicksum(c[i]*x[i] for i in ir),\"minimize\")\n",
    "# Constraints\n",
    "# C\n",
    "m.addCons(y[2] >= y[0]+(7-x[0]))\n",
    "m.addCons(y[2] >= y[1]+(10-x[1]))\n",
    "\n",
    "# D\n",
    "m.addCons(y[3] >= y[0]+(7-x[0]))\n",
    "m.addCons(y[3] >= y[1]+(10-x[1]))\n",
    "# E\n",
    "m.addCons(y[4] >= y[2]+5)\n",
    "m.addCons(y[4] >= y[3]+(3-x[3]))\n",
    "# F\n",
    "m.addCons(y[5] >= y[2]+5)\n",
    "m.addCons(y[5] >= y[3]+(3-x[3]))\n",
    "# end\n",
    "m.addCons(y[6] >= y[4]+(8-x[4]))\n",
    "m.addCons(y[6] >= y[5]+(7-x[5]))\n",
    "m.addCons(y[6] <= 19)\n",
    "for i in ir:\n",
    "    m.addCons(x[i]<=b[i])\n",
    "    m.addCons(x[i]>=0)\n",
    "for j in jr:\n",
    "    m.addCons(y[j]>=0)\n",
    "\n",
    "\n",
    "\n",
    "\n",
    "m.optimize()\n",
    "\n",
    "print(\"obj: \", m.getObjVal())\n",
    "print()\n",
    "for j in jr:\n",
    "    print(\"y[%s] = %s\" % (j,m.getVal(y[j])))\n",
    "print()\n",
    "for i in ir:\n",
    "    print(\"x[%s] = %s\" % (i,m.getVal(x[i])))\n"
   ]
  },
  {
   "cell_type": "markdown",
   "metadata": {},
   "source": [
    "# Exercise 6"
   ]
  },
  {
   "cell_type": "markdown",
   "metadata": {},
   "source": [
    "__1.:__ 4. In nD, it takes n intersecting hyperplanes to get a point.\n",
    "\n",
    "__2.:__ Yes.\n",
    "\n",
    "__3.:__ When the planes are linearly independent.\n",
    "\n",
    "__4.:__ At least the amount variables, which is $n$. \n",
    "\n",
    "__5.:__ Not if the vertex is outside the feasible region.\n",
    "\n",
    "__6.:__ Yes. For example in 3D if we have a pyramid formed by 4 constraints.\n",
    "\n",
    "__7.:__ No. \n",
    "\n",
    "$x_1+x_2$ \n",
    "\n",
    "$x_1+x_2\\le 1$\n",
    "\n",
    "__8.:__ A cube in 3-dimensional we need $3n=3*2=6$ constraints which have $2^n=2^3=8$ vertices. For an $n-hypercube$\n",
    "we need $2n$ constraints and $2^n$ vertices.\n",
    "\n",
    "__9.:__ The upper bound is ${m \\choose n}=\\frac{m!}{n!(m-n)!} $\n",
    "\n",
    "__10.:__ True, False, False.\n",
    "\n",
    "__11.:__ At most two can be different from zero, since we have two constraints.\n",
    "\n",
    "- Both constraints are active.\n",
    "\n",
    "- At most m\n",
    "\n",
    "- $n-m$, at most $m<n$ products\n",
    "\n",
    "__12.:__ Since $x_4=0$ is the slack variable of the second constraint it is active.\n",
    "\n",
    "__13.:__ 3 constraints would be active.\n",
    "\n",
    "__14.:__ True\n",
    "\n",
    "__15.:__ Then one basic variable is zero. Can draw 2D for:\n",
    "\n",
    "$x_1+x_2\\le 1,  \\ x_1\\le 1,  \\ x_i \\ge 0$\n",
    "\n",
    "__16.:__ \n",
    "\n",
    "- For 2 dimensions: they have 1 constraint in common.\n",
    "\n",
    "- For 3 dimensions: they have 2 constraints in common.\n",
    "\n",
    "- For n dimensions: they have $ n-1$ constraints in common.\n",
    "\n",
    "Then we need $n-1$ common variables in basis."
   ]
  },
  {
   "cell_type": "code",
   "execution_count": 14,
   "metadata": {},
   "outputs": [
    {
     "data": {
      "text/plain": [
       "3.0"
      ]
     },
     "execution_count": 14,
     "metadata": {},
     "output_type": "execute_result"
    }
   ],
   "source": [
    "(3*2)/(2*(3-2))"
   ]
  },
  {
   "cell_type": "code",
   "execution_count": 16,
   "metadata": {},
   "outputs": [
    {
     "name": "stdout",
     "output_type": "stream",
     "text": [
      "|-------+-------+-------+-------+-------+-------+\n",
      "|    x1 |    x2 |    x3 |    x4 |    -z |     b |\n",
      "|-------+-------+-------+-------+-------+-------+\n",
      "|     1 |     1 |     1 |     0 |     0 |     1 |\n",
      "|     1 |     0 |     0 |     1 |     0 |     1 |\n",
      "|-------+-------+-------+-------+-------+-------+\n",
      "|     1 |     1 |     0 |     0 |     1 |     0 |\n",
      "|-------+-------+-------+-------+-------+-------+\n"
     ]
    }
   ],
   "source": [
    "A=np.array([[f(1,1),1,1,0,0,1],[1,0,0,1,0,1],[1,1,0,0,1,0]])\n",
    "tableau(A) "
   ]
  },
  {
   "cell_type": "code",
   "execution_count": 17,
   "metadata": {},
   "outputs": [
    {
     "name": "stdout",
     "output_type": "stream",
     "text": [
      "|-------+-------+-------+-------+-------+-------+\n",
      "|    x1 |    x2 |    x3 |    x4 |    -z |     b |\n",
      "|-------+-------+-------+-------+-------+-------+\n",
      "|     1 |     1 |     1 |     0 |     0 |     1 |\n",
      "|     0 |    -1 |    -1 |     1 |     0 |     0 |\n",
      "|-------+-------+-------+-------+-------+-------+\n",
      "|     0 |     0 |    -1 |     0 |     1 |    -1 |\n",
      "|-------+-------+-------+-------+-------+-------+\n"
     ]
    }
   ],
   "source": [
    "A[1,:]=A[1,:]-A[0,:]\n",
    "A[2,:]=A[2,:]-A[0,:]\n",
    "tableau(A)"
   ]
  },
  {
   "cell_type": "markdown",
   "metadata": {},
   "source": [
    "$x_1=1$\n",
    "\n",
    "$x_2=0$\n",
    "\n",
    "$x_3=0$\n",
    "\n",
    "$x_4=0$\n"
   ]
  },
  {
   "cell_type": "markdown",
   "metadata": {},
   "source": [
    "# Exercise 7"
   ]
  },
  {
   "cell_type": "markdown",
   "metadata": {},
   "source": [
    "__Thm 2.5:__ If the simplex fails to terminate, then it must cycle. Proof. A tableau is determined by which var. is in base and which are not. There are ${n+m \\choose m}$  possibilites, hence finite. Then it will terminate if it does not cycle.\n",
    "\n",
    "Then it cycles use Blend's rule to prevent this. Choose lowest index for entering variable and leaving."
   ]
  },
  {
   "cell_type": "markdown",
   "metadata": {},
   "source": [
    "# Exercise 8"
   ]
  },
  {
   "cell_type": "markdown",
   "metadata": {},
   "source": [
    "__a.__\n",
    "\n",
    "A point is feasible if it is inside the feasible region.\n",
    "\n",
    "A point is basic if there are the same amount of active constrainst as there are variables.\n",
    "\n",
    "The points:\n",
    "\n",
    "$i:$ is feasible.\n",
    "\n",
    "$ii:$ is feasible.\n",
    "\n",
    "$iii:$ is basic and feasible.\n",
    "\n",
    "$iv:$ is basic."
   ]
  },
  {
   "cell_type": "markdown",
   "metadata": {},
   "source": [
    "__b.__\n",
    "\n",
    "__The LP model:__\n",
    "\n",
    "$\\begin{aligned} \\text{max} & \\qquad  z=x_1+5x_2 &  \\\\\n",
    "\\text{s.t} & \\qquad  -x_1+3x_2  \\le 6 &  \\\\\n",
    "& \\qquad -4x_1-4x_2   \\le -5 &  \\\\\n",
    "& \\qquad x_1  \\le 2 &  \\\\\n",
    "& \\qquad x_i   \\ge 0 \\\\\n",
    "\\end{aligned}$\n",
    "\n",
    "\n",
    "The basic solution is:\n",
    "\n",
    "$x_1=0$\n",
    "\n",
    "$x_2=0$\n",
    "\n",
    "$x_3=6$\n",
    "\n",
    "$x_4=-5$\n",
    "\n",
    "$x_5=2$\n",
    "\n",
    "$z=0+5*0=0$ it is not feasible and not optimal. Since the second constraint is violated."
   ]
  },
  {
   "cell_type": "code",
   "execution_count": 18,
   "metadata": {},
   "outputs": [
    {
     "name": "stdout",
     "output_type": "stream",
     "text": [
      "|-------+-------+-------+-------+-------+-------+-------+\n",
      "|    x1 |    x2 |    x3 |    x4 |    x5 |    -z |     b |\n",
      "|-------+-------+-------+-------+-------+-------+-------+\n",
      "|    -1 |     3 |     1 |     0 |     0 |     0 |     6 |\n",
      "|    -4 |    -4 |     0 |     1 |     0 |     0 |    -5 |\n",
      "|     1 |     0 |     0 |     0 |     1 |     0 |     2 |\n",
      "|-------+-------+-------+-------+-------+-------+-------+\n",
      "|     1 |     5 |     0 |     0 |     0 |     1 |     0 |\n",
      "|-------+-------+-------+-------+-------+-------+-------+\n"
     ]
    }
   ],
   "source": [
    "A=np.array([[-1,3,1,0,0,0,6],[-4,-4,0,1,0,0,-5],[1,0,0,0,1,0,2],[1,5,0,0,0,1,0]])\n",
    "tableau(A) "
   ]
  },
  {
   "cell_type": "markdown",
   "metadata": {},
   "source": [
    "__c.__\n",
    "\n",
    "$\\bullet$ Largest coefficient consider $x_2, x_4$. With $x_2$ having largest coefficient we pick it. $x_1$ leaves.\n",
    "\n"
   ]
  },
  {
   "cell_type": "code",
   "execution_count": 19,
   "metadata": {},
   "outputs": [
    {
     "name": "stdout",
     "output_type": "stream",
     "text": [
      "|-------+-------+-------+-------+-------+-------+-------+\n",
      "|    x1 |    x2 |    x3 |    x4 |    x5 |    -z |     b |\n",
      "|-------+-------+-------+-------+-------+-------+-------+\n",
      "|     0 |     4 |     1 |  -1/4 |     0 |     0 |  29/4 |\n",
      "|     1 |     1 |     0 |  -1/4 |     0 |     0 |   5/4 |\n",
      "|     0 |    -1 |     0 |   1/4 |     1 |     0 |   3/4 |\n",
      "|-------+-------+-------+-------+-------+-------+-------+\n",
      "|     0 |     4 |     0 |   1/4 |     0 |     1 |  -5/4 |\n",
      "|-------+-------+-------+-------+-------+-------+-------+\n"
     ]
    }
   ],
   "source": [
    "A=np.array([[0,f(4,1),1,-f(1,4),0,0,f(29,4)],[1,1,0,-f(1,4),0,0,f(5,4)],[0,-1,0,f(1,4),1,0,f(3,4)],[0,4,0,f(1,4),0,1,-f(5,4)]])\n",
    "tableau(A) "
   ]
  },
  {
   "cell_type": "code",
   "execution_count": 20,
   "metadata": {},
   "outputs": [
    {
     "name": "stdout",
     "output_type": "stream",
     "text": [
      "1.8125\n",
      "1.25\n"
     ]
    }
   ],
   "source": [
    "print(f(29,4)/4.)\n",
    "print(f(5/4)/1.)"
   ]
  },
  {
   "cell_type": "code",
   "execution_count": 21,
   "metadata": {},
   "outputs": [
    {
     "name": "stdout",
     "output_type": "stream",
     "text": [
      "|-------+-------+-------+-------+-------+-------+-------+\n",
      "|    x1 |    x2 |    x3 |    x4 |    x5 |    -z |     b |\n",
      "|-------+-------+-------+-------+-------+-------+-------+\n",
      "|    -4 |     0 |     1 |   3/4 |     0 |     0 |   9/4 |\n",
      "|     1 |     1 |     0 |  -1/4 |     0 |     0 |   5/4 |\n",
      "|     1 |     0 |     0 |     0 |     1 |     0 |     2 |\n",
      "|-------+-------+-------+-------+-------+-------+-------+\n",
      "|    -4 |     0 |     0 |   5/4 |     0 |     1 | -25/4 |\n",
      "|-------+-------+-------+-------+-------+-------+-------+\n"
     ]
    }
   ],
   "source": [
    "A[0,:]=A[0,:]-4*A[1,:]\n",
    "A[2,:]=A[2,:]+A[1,:]\n",
    "A[3,:]=A[3,:]-4*A[1,:]\n",
    "tableau(A)"
   ]
  },
  {
   "cell_type": "code",
   "execution_count": 22,
   "metadata": {},
   "outputs": [
    {
     "name": "stdout",
     "output_type": "stream",
     "text": [
      "|-------+-------+-------+-------+-------+-------+-------+\n",
      "|    x1 |    x2 |    x3 |    x4 |    x5 |    -z |     b |\n",
      "|-------+-------+-------+-------+-------+-------+-------+\n",
      "| -16/3 |     0 |   4/3 |     1 |     0 |     0 |     3 |\n",
      "|  -1/3 |     1 |   1/3 |     0 |     0 |     0 |     2 |\n",
      "|     1 |     0 |     0 |     0 |     1 |     0 |     2 |\n",
      "|-------+-------+-------+-------+-------+-------+-------+\n",
      "|   8/3 |     0 |  -5/3 |     0 |     0 |     1 |   -10 |\n",
      "|-------+-------+-------+-------+-------+-------+-------+\n"
     ]
    }
   ],
   "source": [
    "A[0,:]=f(4,3)*A[0,:]\n",
    "A[1,:]=A[1,:]+f(1,4)*A[0,:]\n",
    "A[3,:]=A[3,:]-f(5,4)*A[0,:]\n",
    "tableau(A)"
   ]
  },
  {
   "cell_type": "code",
   "execution_count": 23,
   "metadata": {},
   "outputs": [
    {
     "name": "stdout",
     "output_type": "stream",
     "text": [
      "|-------+-------+-------+-------+-------+-------+-------+\n",
      "|    x1 |    x2 |    x3 |    x4 |    x5 |    -z |     b |\n",
      "|-------+-------+-------+-------+-------+-------+-------+\n",
      "|     0 |     0 |   4/3 |     1 |  16/3 |     0 |  41/3 |\n",
      "|     0 |     1 |   1/3 |     0 |   1/3 |     0 |   8/3 |\n",
      "|     1 |     0 |     0 |     0 |     1 |     0 |     2 |\n",
      "|-------+-------+-------+-------+-------+-------+-------+\n",
      "|     0 |     0 |  -5/3 |     0 |  -8/3 |     1 | -46/3 |\n",
      "|-------+-------+-------+-------+-------+-------+-------+\n"
     ]
    }
   ],
   "source": [
    "A[0,:]=A[0,:]+f(16,3)*A[2,:]\n",
    "A[1,:]=A[1,:]+f(1,3)*A[2,:]\n",
    "A[3,:]=A[3,:]-f(8,3)*A[2,:]\n",
    "tableau(A)"
   ]
  },
  {
   "cell_type": "markdown",
   "metadata": {},
   "source": [
    "It takes three steps."
   ]
  },
  {
   "cell_type": "markdown",
   "metadata": {},
   "source": [
    "$\\bullet$ Largest increase: We are still considering $x_2,x_4$.\n",
    "\n",
    "For $x_2$ the increase will be $\\text{min}\\left\\{\\frac{29/4}{4}, \\frac{5/4}{1}\\right \\}*4 = 5$\n",
    "\n",
    "For $x_4$ the increase will be $\\text{min}\\left \\{\\frac{3/4}{1/4} \\right \\}*1/4 = 3/4$. \n",
    "\n",
    "This means that $x_2$ is entering and $x_1$ is leaving.\n"
   ]
  },
  {
   "cell_type": "markdown",
   "metadata": {},
   "source": [
    "$\\bullet$ Steepest edge"
   ]
  },
  {
   "cell_type": "markdown",
   "metadata": {},
   "source": [
    "None of the rules are convenient, since they all take three steps. If we instead let $x_4$ enter and $x_5$ leave we reach the optimal solution in two steps."
   ]
  },
  {
   "cell_type": "code",
   "execution_count": 24,
   "metadata": {},
   "outputs": [
    {
     "name": "stdout",
     "output_type": "stream",
     "text": [
      "|-------+-------+-------+-------+-------+-------+-------+\n",
      "|    x1 |    x2 |    x3 |    x4 |    x5 |    -z |     b |\n",
      "|-------+-------+-------+-------+-------+-------+-------+\n",
      "|     0 |     4 |     1 |  -1/4 |     0 |     0 |  29/4 |\n",
      "|     1 |     1 |     0 |  -1/4 |     0 |     0 |   5/4 |\n",
      "|     0 |    -1 |     0 |   1/4 |     1 |     0 |   3/4 |\n",
      "|-------+-------+-------+-------+-------+-------+-------+\n",
      "|     0 |     4 |     0 |   1/4 |     0 |     1 |  -5/4 |\n",
      "|-------+-------+-------+-------+-------+-------+-------+\n"
     ]
    }
   ],
   "source": [
    "A=np.array([[0,f(4,1),1,-f(1,4),0,0,f(29,4)],[1,1,0,-f(1,4),0,0,f(5,4)],[0,-1,0,f(1,4),1,0,f(3,4)],[0,4,0,f(1,4),0,1,-f(5,4)]])\n",
    "tableau(A) "
   ]
  },
  {
   "cell_type": "code",
   "execution_count": 25,
   "metadata": {},
   "outputs": [
    {
     "name": "stdout",
     "output_type": "stream",
     "text": [
      "|-------+-------+-------+-------+-------+-------+-------+\n",
      "|    x1 |    x2 |    x3 |    x4 |    x5 |    -z |     b |\n",
      "|-------+-------+-------+-------+-------+-------+-------+\n",
      "|     0 |     3 |     1 |     0 |     1 |     0 |     8 |\n",
      "|     1 |     0 |     0 |     0 |     1 |     0 |     2 |\n",
      "|     0 |    -4 |     0 |     1 |     4 |     0 |     3 |\n",
      "|-------+-------+-------+-------+-------+-------+-------+\n",
      "|     0 |     5 |     0 |     0 |    -1 |     1 |    -2 |\n",
      "|-------+-------+-------+-------+-------+-------+-------+\n"
     ]
    }
   ],
   "source": [
    "A[2,:]=4*A[2,:]\n",
    "A[0,:]=A[0,:]+f(1,4)*A[2,:]\n",
    "A[1,:]=A[1,:]+f(1,4)*A[2,:]\n",
    "A[3,:]=A[3,:]-f(1,4)*A[2,:]\n",
    "tableau(A)"
   ]
  },
  {
   "cell_type": "code",
   "execution_count": 26,
   "metadata": {},
   "outputs": [
    {
     "name": "stdout",
     "output_type": "stream",
     "text": [
      "|-------+-------+-------+-------+-------+-------+-------+\n",
      "|    x1 |    x2 |    x3 |    x4 |    x5 |    -z |     b |\n",
      "|-------+-------+-------+-------+-------+-------+-------+\n",
      "|     0 |     1 |   1/3 |     0 |   1/3 |     0 |   8/3 |\n",
      "|     1 |     0 |     0 |     0 |     1 |     0 |     2 |\n",
      "|     0 |     0 |   4/3 |     1 |  16/3 |     0 |  41/3 |\n",
      "|-------+-------+-------+-------+-------+-------+-------+\n",
      "|     0 |     0 |  -5/3 |     0 |  -8/3 |     1 | -46/3 |\n",
      "|-------+-------+-------+-------+-------+-------+-------+\n"
     ]
    }
   ],
   "source": [
    "A[0,:]=f(1,3)*A[0,:]\n",
    "A[2,:]=A[2,:]+4*A[0,:]\n",
    "A[3,:]=A[3,:]-5*A[0,:]\n",
    "tableau(A)"
   ]
  },
  {
   "cell_type": "markdown",
   "metadata": {},
   "source": [
    "![title](test4.PNG)"
   ]
  },
  {
   "cell_type": "markdown",
   "metadata": {},
   "source": [
    "![title](test6.PNG)"
   ]
  },
  {
   "cell_type": "markdown",
   "metadata": {},
   "source": [
    "# Exercise 9"
   ]
  },
  {
   "cell_type": "code",
   "execution_count": 27,
   "metadata": {},
   "outputs": [
    {
     "name": "stdout",
     "output_type": "stream",
     "text": [
      "|-------+-------+-------+-------+-------+-------+\n",
      "|    x1 |    x2 |    x3 |    x4 |    -z |     b |\n",
      "|-------+-------+-------+-------+-------+-------+\n",
      "|     0 |     1 |     1 |     0 |     0 |     5 |\n",
      "|    -1 |     1 |     0 |     1 |     0 |     1 |\n",
      "|-------+-------+-------+-------+-------+-------+\n",
      "|     2 |     1 |     0 |     0 |     1 |     0 |\n",
      "|-------+-------+-------+-------+-------+-------+\n"
     ]
    }
   ],
   "source": [
    "A = np.array([[0,f(1,1),1,0,0,5],[-1,1,0,1,0,1],[2,1,0,0,1,0]])\n",
    "tableau(A)"
   ]
  },
  {
   "cell_type": "markdown",
   "metadata": {},
   "source": [
    "The first is unbounded since the first column has positive reduced cost but no positive $a_{ij}$ term. "
   ]
  },
  {
   "cell_type": "code",
   "execution_count": 28,
   "metadata": {},
   "outputs": [
    {
     "name": "stdout",
     "output_type": "stream",
     "text": [
      "|-------+-------+-------+-------+-------+-------+\n",
      "|    x1 |    x2 |    x3 |    x4 |    -z |     b |\n",
      "|-------+-------+-------+-------+-------+-------+\n",
      "|     5 |    10 |     1 |     0 |     0 |    60 |\n",
      "|     4 |     4 |     0 |     1 |     0 |    40 |\n",
      "|-------+-------+-------+-------+-------+-------+\n",
      "|     1 |     1 |     0 |     0 |     1 |     0 |\n",
      "|-------+-------+-------+-------+-------+-------+\n"
     ]
    }
   ],
   "source": [
    "A = np.array([[f(5,1),10,1,0,0,60],[4,4,0,1,0,40],[1,1,0,0,1,0]])\n",
    "tableau(A)"
   ]
  },
  {
   "cell_type": "markdown",
   "metadata": {},
   "source": [
    "Let $x_2$ enter the basis."
   ]
  },
  {
   "cell_type": "code",
   "execution_count": 29,
   "metadata": {},
   "outputs": [
    {
     "name": "stdout",
     "output_type": "stream",
     "text": [
      "6.0\n",
      "10.0\n"
     ]
    }
   ],
   "source": [
    "print(60/10)\n",
    "print(40/4)"
   ]
  },
  {
   "cell_type": "markdown",
   "metadata": {},
   "source": [
    "Then $x_3$ leaves."
   ]
  },
  {
   "cell_type": "code",
   "execution_count": 30,
   "metadata": {},
   "outputs": [
    {
     "name": "stdout",
     "output_type": "stream",
     "text": [
      "|-------+-------+-------+-------+-------+-------+\n",
      "|    x1 |    x2 |    x3 |    x4 |    -z |     b |\n",
      "|-------+-------+-------+-------+-------+-------+\n",
      "|   1/2 |     1 |  1/10 |     0 |     0 |     6 |\n",
      "|     2 |     0 |  -2/5 |     1 |     0 |    16 |\n",
      "|-------+-------+-------+-------+-------+-------+\n",
      "|   1/2 |     0 | -1/10 |     0 |     1 |    -6 |\n",
      "|-------+-------+-------+-------+-------+-------+\n"
     ]
    }
   ],
   "source": [
    "A[0,:]=f(1,10)*A[0,:]\n",
    "A[1,:]=A[1,:]-4*A[0,:]\n",
    "A[2,:]=A[2,:]-A[0,:]\n",
    "\n",
    "\n",
    "tableau(A)"
   ]
  },
  {
   "cell_type": "markdown",
   "metadata": {},
   "source": [
    "Let $x_1$ enter."
   ]
  },
  {
   "cell_type": "code",
   "execution_count": 31,
   "metadata": {},
   "outputs": [
    {
     "name": "stdout",
     "output_type": "stream",
     "text": [
      "12\n",
      "8.0\n"
     ]
    }
   ],
   "source": [
    "print(6/f(1,2))\n",
    "print(16/2)"
   ]
  },
  {
   "cell_type": "markdown",
   "metadata": {},
   "source": [
    "Let $x_4$ leave."
   ]
  },
  {
   "cell_type": "code",
   "execution_count": 32,
   "metadata": {
    "collapsed": true
   },
   "outputs": [],
   "source": [
    "A[1,:]=f(1,2)*A[1,:]\n",
    "A[0,:]=A[0,:]-f(1,2)*A[1,:]\n",
    "A[2,:]=A[2,:]-f(1,2)*A[1,:]"
   ]
  },
  {
   "cell_type": "code",
   "execution_count": 33,
   "metadata": {},
   "outputs": [
    {
     "name": "stdout",
     "output_type": "stream",
     "text": [
      "|-------+-------+-------+-------+-------+-------+\n",
      "|    x1 |    x2 |    x3 |    x4 |    -z |     b |\n",
      "|-------+-------+-------+-------+-------+-------+\n",
      "|     0 |     1 |   1/5 |  -1/4 |     0 |     2 |\n",
      "|     1 |     0 |  -1/5 |   1/2 |     0 |     8 |\n",
      "|-------+-------+-------+-------+-------+-------+\n",
      "|     0 |     0 |     0 |  -1/4 |     1 |   -10 |\n",
      "|-------+-------+-------+-------+-------+-------+\n"
     ]
    }
   ],
   "source": [
    "tableau(A)"
   ]
  },
  {
   "cell_type": "markdown",
   "metadata": {},
   "source": [
    "Optimal with $x_1=8, x_2=2, z=10$. We can see that $x_3$ have reduced cost 0. If we let $x_3$ enter and let $x_2$ leave.:"
   ]
  },
  {
   "cell_type": "code",
   "execution_count": 34,
   "metadata": {},
   "outputs": [
    {
     "name": "stdout",
     "output_type": "stream",
     "text": [
      "|-------+-------+-------+-------+-------+-------+\n",
      "|    x1 |    x2 |    x3 |    x4 |    -z |     b |\n",
      "|-------+-------+-------+-------+-------+-------+\n",
      "|     0 |     5 |     1 |  -5/4 |     0 |    10 |\n",
      "|     1 |     1 |     0 |   1/4 |     0 |    10 |\n",
      "|-------+-------+-------+-------+-------+-------+\n",
      "|     0 |     0 |     0 |  -1/4 |     1 |   -10 |\n",
      "|-------+-------+-------+-------+-------+-------+\n"
     ]
    }
   ],
   "source": [
    "A[0,:]=5*A[0,:]\n",
    "A[1,:]=A[1,:]+f(1,5)*A[0,:]\n",
    "tableau(A)"
   ]
  },
  {
   "cell_type": "markdown",
   "metadata": {},
   "source": [
    "Optimal with $x_1=10, x_3=10, z=10$\n",
    "\n",
    "Convex combination:\n",
    "\n",
    "$ x_1 = 8a+10(1-a)$\n",
    "\n",
    "$ x_2 = 2a$\n",
    "\n",
    "$ x_3 = 10(1-a)$\n",
    "\n",
    "$ x_4 = 0$"
   ]
  },
  {
   "cell_type": "markdown",
   "metadata": {},
   "source": [
    "# Exercise 10"
   ]
  },
  {
   "cell_type": "markdown",
   "metadata": {},
   "source": [
    "__a.__ Since we have a negative b value, then $x_3=1, x_4=1$ is not feasible.\n",
    "\n",
    "__The LP model:__\n",
    "\n",
    "$\\begin{aligned} \\text{max} & \\qquad  z=4x_2 &  \\\\\n",
    "\\text{s.t} & \\qquad  -2x_2+x_3  = 0 &  \\\\\n",
    "& \\qquad 3x_1-4x_2+x_4   = -1 &  \\\\\n",
    "& \\qquad x_i   \\ge 0 \\\\\n",
    "\\end{aligned}$\n",
    "\n",
    "Make b positive.\n",
    "\n",
    "$\\begin{aligned} \\text{max} & \\qquad  z=4x_2 &  \\\\\n",
    "\\text{s.t} & \\qquad  -2x_2+x_3  = 0 &  \\\\\n",
    "& \\qquad -3x_1+4x_2-x_4   = 1 &  \\\\\n",
    "& \\qquad x_i   \\ge 0 \\\\\n",
    "\\end{aligned}$"
   ]
  },
  {
   "cell_type": "markdown",
   "metadata": {},
   "source": [
    "__b.__ Phase I of the auxiliary problem:"
   ]
  },
  {
   "cell_type": "markdown",
   "metadata": {},
   "source": [
    "__The LP model:__\n",
    "\n",
    "$\\begin{aligned} \\text{max} & \\qquad  w^*=-x_5 &  \\\\\n",
    "\\text{s.t} & \\qquad  -2x_2+x_3  = 0 &  \\\\\n",
    "& \\qquad -3x_1+4x_2-x_4+x_5   = 1 &  \\\\\n",
    "& \\qquad x_i   \\ge 0 \\\\\n",
    "\\end{aligned}$"
   ]
  },
  {
   "cell_type": "code",
   "execution_count": 36,
   "metadata": {},
   "outputs": [
    {
     "name": "stdout",
     "output_type": "stream",
     "text": [
      "|-------+-------+-------+-------+-------+-------+-------+-------+\n",
      "|    x1 |    x2 |    x3 |    x4 |    x5 |    x6 |    -z |     b |\n",
      "|-------+-------+-------+-------+-------+-------+-------+-------+\n",
      "|     0 |    -2 |     1 |     0 |     0 |     0 |     0 |     0 |\n",
      "|    -3 |     4 |     0 |    -1 |     1 |     0 |     0 |     1 |\n",
      "|     0 |     4 |     0 |     0 |     0 |     1 |     0 |     0 |\n",
      "|-------+-------+-------+-------+-------+-------+-------+-------+\n",
      "|     0 |     0 |     0 |     0 |    -1 |     0 |     1 |     0 |\n",
      "|-------+-------+-------+-------+-------+-------+-------+-------+\n"
     ]
    }
   ],
   "source": [
    "A = np.array([[0,-2,f(1,1),0,0,0,0,0],[-3,4,0,-1,1,0,0,1],[0,4,0,0,0,1,0,0],[0,0,0,0,-1,0,1,0]])\n",
    "tableau(A)"
   ]
  },
  {
   "cell_type": "markdown",
   "metadata": {},
   "source": [
    "Turn it into canonical form"
   ]
  },
  {
   "cell_type": "code",
   "execution_count": 37,
   "metadata": {},
   "outputs": [
    {
     "name": "stdout",
     "output_type": "stream",
     "text": [
      "|-------+-------+-------+-------+-------+-------+-------+-------+\n",
      "|    x1 |    x2 |    x3 |    x4 |    x5 |    x6 |    -z |     b |\n",
      "|-------+-------+-------+-------+-------+-------+-------+-------+\n",
      "|     0 |    -2 |     1 |     0 |     0 |     0 |     0 |     0 |\n",
      "|    -3 |     4 |     0 |    -1 |     1 |     0 |     0 |     1 |\n",
      "|     0 |     4 |     0 |     0 |     0 |     1 |     0 |     0 |\n",
      "|-------+-------+-------+-------+-------+-------+-------+-------+\n",
      "|    -3 |     4 |     0 |    -1 |     0 |     0 |     1 |     1 |\n",
      "|-------+-------+-------+-------+-------+-------+-------+-------+\n"
     ]
    }
   ],
   "source": [
    "A[3,:]=A[3,:]+A[1,:]\n",
    "tableau(A)"
   ]
  },
  {
   "cell_type": "markdown",
   "metadata": {},
   "source": [
    "The basis consists of $x_3, x_5$.\n",
    "\n",
    "$x_3=0$\n",
    "\n",
    "$x_5=1$"
   ]
  },
  {
   "cell_type": "markdown",
   "metadata": {},
   "source": [
    "__c.__\n",
    "\n",
    "\n",
    "i) Not feasible. Since the second constraint is violated: $-3*0+4*0=0\\ge 1$\n",
    "\n",
    "ii) $x_5=1, z=-1$ and there are reduced cost with positive value, so no.\n",
    "\n",
    "iii) Yes, $x_3=0$ is a basic variable.\n",
    "\n",
    "iv) It will terminate since the simplex terminates.\n",
    "\n",
    "v) It will not be feasible if for the original problem the feasible region is empty.\n",
    "\n",
    "vi) Let $x_2$ enter and $x_5$ leave."
   ]
  },
  {
   "cell_type": "code",
   "execution_count": 39,
   "metadata": {},
   "outputs": [
    {
     "name": "stdout",
     "output_type": "stream",
     "text": [
      "|-------+-------+-------+-------+-------+-------+-------+-------+\n",
      "|    x1 |    x2 |    x3 |    x4 |    x5 |    x6 |    -z |     b |\n",
      "|-------+-------+-------+-------+-------+-------+-------+-------+\n",
      "| -15/8 |   1/2 |     1 |  -5/8 |   5/8 |     0 |     0 |   5/8 |\n",
      "| -3/16 |   1/4 |     0 | -1/16 |  1/16 |     0 |     0 |  1/16 |\n",
      "|  15/4 |    -1 |     0 |   5/4 |  -5/4 |     1 |     0 |  -5/4 |\n",
      "|-------+-------+-------+-------+-------+-------+-------+-------+\n",
      "|   3/4 |    -1 |     0 |   1/4 |  -5/4 |     0 |     1 |  -1/4 |\n",
      "|-------+-------+-------+-------+-------+-------+-------+-------+\n"
     ]
    }
   ],
   "source": [
    "A[1,:]=f(1,4)*A[1,:]\n",
    "A[0,:]=A[0,:]+2*A[1,:]\n",
    "A[2,:]=A[2,:]-4*A[1,:]\n",
    "A[3,:]=A[3,:]-4*A[1,:]\n",
    "tableau(A)"
   ]
  },
  {
   "cell_type": "markdown",
   "metadata": {},
   "source": [
    "Since $w^*=0$ we have a starting feasbile solution for the original problem.\n",
    "\n",
    "$x_2=1/4$\n",
    "\n",
    "$x_3=1/2$\n",
    "\n",
    "We move to phase II by removing last row and columts $x_5,-z$."
   ]
  },
  {
   "cell_type": "code",
   "execution_count": 40,
   "metadata": {},
   "outputs": [
    {
     "name": "stdout",
     "output_type": "stream",
     "text": [
      "|-------+-------+-------+-------+-------+-------+\n",
      "|    x1 |    x2 |    x3 |    x4 |    -z |     b |\n",
      "|-------+-------+-------+-------+-------+-------+\n",
      "| -15/8 |   1/2 |     1 |  -5/8 |     0 |   5/8 |\n",
      "| -3/16 |   1/4 |     0 | -1/16 |     0 |  1/16 |\n",
      "|-------+-------+-------+-------+-------+-------+\n",
      "|  15/4 |    -1 |     0 |   5/4 |     1 |  -5/4 |\n",
      "|-------+-------+-------+-------+-------+-------+\n"
     ]
    }
   ],
   "source": [
    "A = A[:-1,[0,1,2,3,5,7]]\n",
    "tableau(A)"
   ]
  },
  {
   "cell_type": "markdown",
   "metadata": {},
   "source": [
    "For the first column have positive reduced cost but no positive $a_{ij}$ term, then the problem is unbounded."
   ]
  }
 ],
 "metadata": {
  "kernelspec": {
   "display_name": "Python 3",
   "language": "python",
   "name": "python3"
  },
  "language_info": {
   "codemirror_mode": {
    "name": "ipython",
    "version": 3
   },
   "file_extension": ".py",
   "mimetype": "text/x-python",
   "name": "python",
   "nbconvert_exporter": "python",
   "pygments_lexer": "ipython3",
   "version": "3.8.10"
  }
 },
 "nbformat": 4,
 "nbformat_minor": 2
}
