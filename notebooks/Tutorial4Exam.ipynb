{
 "cells": [
  {
   "cell_type": "markdown",
   "metadata": {},
   "source": [
    "# Using IPython for interactive work \n",
    "\n",
    "\n",
    "You can work interactively with Python using: \n",
    "- Spyder3\n",
    "- Jupyter (IPython) \n",
    "\n",
    "See this tutorial [Tutorial](https://imada.sdu.dk/~marco/DM545/Resources/Ipython/Tutorial.html) for an introduction to interactive Python.\n",
    "This is a syntetic tutorial only about the tools that can be useful for the digital tests during the course.\n",
    "\n",
    "## Preamble for working with Arrays and Fractions\n",
    "\n",
    "Copy this preamble in your script to load the needed modules and implement a function `printm` and `verbatim` for pretty printing. (You can also put the code in a file, for example, `utils.py` and import that file from your script `from utils import *` or, if you are using Jupyter, using the [*magic function*](http://ipython.org/ipython-doc/dev/interactive/magics.html): `%run utils.py`.)"
   ]
  },
  {
   "cell_type": "code",
   "execution_count": 1,
   "metadata": {
    "collapsed": true
   },
   "outputs": [],
   "source": [
    "from numpy import *\n",
    "from fractions import Fraction as f\n",
    "set_printoptions(precision=3,suppress=True)\n",
    "\n",
    "def printm(a):\n",
    "    \"\"\"Prints the array as strings \n",
    "    :a: numpy array\n",
    "    :returns: prints the array\n",
    "    \"\"\"\n",
    "    def p(x):\n",
    "        return str(x)\n",
    "    p = vectorize(p,otypes=[str])\n",
    "    print(p(a))\n",
    "    \n",
    "def tableau(a,W=7):\n",
    "    \"\"\"Returns a string for verbatim printing\n",
    "    :a: numpy array\n",
    "    :returns: a string\n",
    "    \"\"\"\n",
    "    if len(a.shape) != 2:\n",
    "        raise ValueError('verbatim displays two dimensions')\n",
    "    rv = []\n",
    "    rv+=[r'|'+'+'.join('{:-^{width}}'.format('',width=W) for i in range(a.shape[1]))+\"+\"]\n",
    "    rv+=[r'|'+'|'.join(map(lambda i: '{0:>{width}}'.format(\"x\"+str(i+1)+\" \",width=W), range(a.shape[1]-2)) )+\"|\"+\n",
    "         '{0:>{width}}'.format(\"-z \",width=W)+\"|\"\n",
    "         '{0:>{width}}'.format(\"b \",width=W)+\"|\"]\n",
    "    rv+=[r'|'+'+'.join('{:-^{width}}'.format('',width=W) for i in range(a.shape[1]))+\"+\"]\n",
    "    for i in range(a.shape[0]-1):\n",
    "        rv += [r'| '+' | '.join(['{0:>{width}}'.format(str(a[i,j]),width=W-2) for j in range(a.shape[1])])+\" |\"]\n",
    "    rv+=[r'|'+'+'.join('{:-^{width}}'.format('',width=W) for i in range(a.shape[1]))+\"+\"]\n",
    "    i = a.shape[0]-1\n",
    "    rv += [r'| '+' | '.join(['{0:>{width}}'.format(str(a[i,j]),width=W-2) for j in range(a.shape[1])])+\" |\"]\n",
    "    rv+=[r'|'+'+'.join('{:-^{width}}'.format('',width=W) for i in range(a.shape[1]))+\"+\"]\n",
    "    print('\\n'.join(rv))"
   ]
  },
  {
   "cell_type": "markdown",
   "metadata": {},
   "source": [
    "## Elementary row operations\n",
    "To do elementary row operations on a matrix one can do as follows:"
   ]
  },
  {
   "cell_type": "code",
   "execution_count": 2,
   "metadata": {
    "collapsed": false
   },
   "outputs": [
    {
     "name": "stdout",
     "output_type": "stream",
     "text": [
      "[['4/9' '1' '8/9' '16/45']\n",
      " ['3/4' '1' '5/4' '0']]\n"
     ]
    }
   ],
   "source": [
    "A = array( [[1, f(9,4), 2, f(4,5)],\n",
    "             [f(3,4), 1, f(5,4), 0]])\n",
    "A[0,:] = f(4,9) * A[0,:]\n",
    "printm(A)"
   ]
  },
  {
   "cell_type": "code",
   "execution_count": 3,
   "metadata": {
    "collapsed": false
   },
   "outputs": [
    {
     "name": "stdout",
     "output_type": "stream",
     "text": [
      "|-------+-------+-------+-------+\n",
      "|    x1 |    x2 |    -z |     b |\n",
      "|-------+-------+-------+-------+\n",
      "|   4/9 |     1 |   8/9 | 16/45 |\n",
      "|-------+-------+-------+-------+\n",
      "|   3/4 |     1 |   5/4 |     0 |\n",
      "|-------+-------+-------+-------+\n"
     ]
    }
   ],
   "source": [
    "tableau(A)"
   ]
  },
  {
   "cell_type": "markdown",
   "metadata": {},
   "source": [
    "Note that indices start from 0, hence a vector of size $n$ has indices from $0$ to $n-1$."
   ]
  },
  {
   "cell_type": "markdown",
   "metadata": {},
   "source": [
    "## Matrix Operations"
   ]
  },
  {
   "cell_type": "markdown",
   "metadata": {},
   "source": [
    "#### Construct an array of zeros"
   ]
  },
  {
   "cell_type": "code",
   "execution_count": 4,
   "metadata": {
    "collapsed": false
   },
   "outputs": [
    {
     "data": {
      "text/plain": [
       "array([[0.],\n",
       "       [0.],\n",
       "       [0.]])"
      ]
     },
     "execution_count": 4,
     "metadata": {},
     "output_type": "execute_result"
    }
   ],
   "source": [
    "zeros((3,1))"
   ]
  },
  {
   "cell_type": "markdown",
   "metadata": {},
   "source": [
    "#### Concatenate an identity matrix to a matrix"
   ]
  },
  {
   "cell_type": "code",
   "execution_count": 5,
   "metadata": {
    "collapsed": false
   },
   "outputs": [
    {
     "name": "stdout",
     "output_type": "stream",
     "text": [
      "[['4/9' '1' '8/9' '16/45' '1.0' '0.0']\n",
      " ['3/4' '1' '5/4' '0' '0.0' '1.0']]\n"
     ]
    }
   ],
   "source": [
    "A_1 = concatenate([A,identity(2)],axis=1)\n",
    "printm(A_1)"
   ]
  },
  {
   "cell_type": "markdown",
   "metadata": {},
   "source": [
    "#### Insert a row in between other two:"
   ]
  },
  {
   "cell_type": "code",
   "execution_count": 6,
   "metadata": {
    "collapsed": false
   },
   "outputs": [
    {
     "name": "stdout",
     "output_type": "stream",
     "text": [
      "[['4/9' '1' '8/9' '16/45']\n",
      " ['0' '2' '1' '0']\n",
      " ['3/4' '1' '5/4' '0']]\n"
     ]
    }
   ],
   "source": [
    "A_2 = concatenate([ A[0:1,:], array( [[0,2,1,0]] ), A[1:2,:] ],axis=0)\n",
    "printm(A_2)"
   ]
  },
  {
   "cell_type": "markdown",
   "metadata": {},
   "source": [
    "#### Ask for the dimensions of an array:"
   ]
  },
  {
   "cell_type": "code",
   "execution_count": 7,
   "metadata": {
    "collapsed": false
   },
   "outputs": [
    {
     "data": {
      "text/plain": [
       "(2, 4)"
      ]
     },
     "execution_count": 7,
     "metadata": {},
     "output_type": "execute_result"
    }
   ],
   "source": [
    "A.shape"
   ]
  },
  {
   "cell_type": "markdown",
   "metadata": {},
   "source": [
    "#### Multiply matrices "
   ]
  },
  {
   "cell_type": "markdown",
   "metadata": {},
   "source": [
    "The operations `+,*,/,-` are *elementwise*. For the operations of scalar multiplication and matrix multiplication the `dot` method must be used. Compare the following two cells:"
   ]
  },
  {
   "cell_type": "code",
   "execution_count": 8,
   "metadata": {
    "collapsed": false
   },
   "outputs": [
    {
     "data": {
      "text/plain": [
       "array([[1., 2.],\n",
       "       [1., 2.],\n",
       "       [1., 2.],\n",
       "       [1., 2.]])"
      ]
     },
     "execution_count": 8,
     "metadata": {},
     "output_type": "execute_result"
    }
   ],
   "source": [
    "A = ones((4,2)) # a matrix of 1s of size 4x2\n",
    "b = array([1,2])\n",
    "A*b"
   ]
  },
  {
   "cell_type": "markdown",
   "metadata": {},
   "source": [
    "which performs broadcasting and element-wise multiplication and hence not matrix-vector multiplication. The correct way to do matrix-vector and matrix-matrix multiplication is:"
   ]
  },
  {
   "cell_type": "code",
   "execution_count": 9,
   "metadata": {
    "collapsed": false
   },
   "outputs": [
    {
     "data": {
      "text/plain": [
       "array([3., 3., 3., 3.])"
      ]
     },
     "execution_count": 9,
     "metadata": {},
     "output_type": "execute_result"
    }
   ],
   "source": [
    "dot(A,b)"
   ]
  },
  {
   "cell_type": "markdown",
   "metadata": {},
   "source": [
    "#### Inverse"
   ]
  },
  {
   "cell_type": "code",
   "execution_count": 10,
   "metadata": {
    "collapsed": false
   },
   "outputs": [
    {
     "data": {
      "text/plain": [
       "array([[ 1., -0.,  0.,  0.],\n",
       "       [ 0.,  1.,  0.,  0.],\n",
       "       [ 0., -0.,  1.,  0.],\n",
       "       [-0., -0.,  0.,  1.]])"
      ]
     },
     "execution_count": 10,
     "metadata": {},
     "output_type": "execute_result"
    }
   ],
   "source": [
    "A = random.randint(1,10,size=(4,4))\n",
    "A_i = linalg.inv(A)\n",
    "around( dot(A,A_i), decimals=2) # let's verify"
   ]
  },
  {
   "cell_type": "markdown",
   "metadata": {},
   "source": [
    "#### Transpose"
   ]
  },
  {
   "cell_type": "code",
   "execution_count": 11,
   "metadata": {
    "collapsed": false
   },
   "outputs": [
    {
     "data": {
      "text/plain": [
       "array([[5, 2, 7, 6],\n",
       "       [6, 1, 8, 1],\n",
       "       [6, 3, 7, 5],\n",
       "       [7, 7, 3, 5]])"
      ]
     },
     "execution_count": 11,
     "metadata": {},
     "output_type": "execute_result"
    }
   ],
   "source": [
    "A.T"
   ]
  },
  {
   "cell_type": "markdown",
   "metadata": {},
   "source": [
    "#### Rank"
   ]
  },
  {
   "cell_type": "code",
   "execution_count": 12,
   "metadata": {
    "collapsed": false
   },
   "outputs": [
    {
     "data": {
      "text/plain": [
       "4"
      ]
     },
     "execution_count": 12,
     "metadata": {},
     "output_type": "execute_result"
    }
   ],
   "source": [
    "linalg.matrix_rank(A)"
   ]
  },
  {
   "cell_type": "markdown",
   "metadata": {},
   "source": [
    "#### Reduced row echelon form\n",
    "\n",
    "You should calculate the reduced row echelon form by applying elementary row operations  "
   ]
  },
  {
   "cell_type": "code",
   "execution_count": 13,
   "metadata": {
    "collapsed": false
   },
   "outputs": [
    {
     "name": "stdout",
     "output_type": "stream",
     "text": [
      "[['1' '1/3' '1/3' '1/3' '2/3']\n",
      " ['0' '10/3' '1/3' '1/3' '2/3']\n",
      " ['0' '1/3' '4/3' '4/3' '-1/3']]\n",
      "[['1' '1/3' '1/3' '1/3' '2/3']\n",
      " ['0' '1' '1/10' '1/10' '1/5']\n",
      " ['0' '0' '13/10' '13/10' '-2/5']]\n",
      "[['1' '1/3' '1/3' '1/3' '2/3']\n",
      " ['0' '1' '1/10' '1/10' '1/5']\n",
      " ['0' '0' '1' '1' '-4/13']]\n",
      "[['1' '1/3' '0' '0' '10/13']\n",
      " ['0' '1' '0' '0' '3/13']\n",
      " ['0' '0' '1' '1' '-4/13']]\n",
      "[['1' '0' '0' '0' '9/13']\n",
      " ['0' '1' '0' '0' '3/13']\n",
      " ['0' '0' '1' '1' '-4/13']]\n"
     ]
    }
   ],
   "source": [
    "A=array([[f(3,1),1,1,1],\n",
    "         [2,4,1,1],\n",
    "         [2,1,2,2]])\n",
    "b=array([2,2,1])\n",
    "\n",
    "AA=column_stack([A,b])\n",
    "AA[0,:] = f(1,3) * AA[0,:]  # remember indices start from 0\n",
    "AA[1,:] = -2 * AA[0,:] + AA[1,:]\n",
    "AA[2,:] = -2 * AA[0,:] + AA[2,:]\n",
    "printm(AA)\n",
    "AA[1,:] = f(3,10)* AA[1,:]\n",
    "AA[2,:] += -f(1,3) * AA[1,:]\n",
    "printm(AA)\n",
    "AA[2,:] = f(10,13) * AA[2,:]\n",
    "printm(AA)\n",
    "AA[1,:] += -f(1,10) * AA[2,:]\n",
    "AA[0,:] += -f(1,3) * AA[2,:]\n",
    "printm(AA)\n",
    "AA[0,:] += -f(1,3) * AA[1,:]\n",
    "printm(AA)"
   ]
  },
  {
   "cell_type": "markdown",
   "metadata": {},
   "source": [
    "You can check your result by importing the module for symbolic computation `sympy`. You are however discouraged to use this for your calculations:"
   ]
  },
  {
   "cell_type": "code",
   "execution_count": 14,
   "metadata": {
    "collapsed": false
   },
   "outputs": [
    {
     "data": {
      "text/plain": [
       "(Matrix([\n",
       " [1, 0, 0, 0,  9/13],\n",
       " [0, 1, 0, 0,  3/13],\n",
       " [0, 0, 1, 1, -4/13]]), (0, 1, 2))"
      ]
     },
     "execution_count": 14,
     "metadata": {},
     "output_type": "execute_result"
    }
   ],
   "source": [
    "import sympy as sy\n",
    "# np.linalg.solve(A,b)\n",
    "\n",
    "sy.Matrix(AA).rref()"
   ]
  }
 ],
 "metadata": {
  "kernelspec": {
   "display_name": "Python 3",
   "language": "python",
   "name": "python3"
  },
  "language_info": {
   "codemirror_mode": {
    "name": "ipython",
    "version": 3
   },
   "file_extension": ".py",
   "mimetype": "text/x-python",
   "name": "python",
   "nbconvert_exporter": "python",
   "pygments_lexer": "ipython3",
   "version": "3.6.4"
  }
 },
 "nbformat": 4,
 "nbformat_minor": 2
}
