{
 "cells": [
  {
   "attachments": {},
   "cell_type": "markdown",
   "metadata": {},
   "source": [
    "<a href=\"https://colab.research.google.com/github/DM871/dm871.github.io/blob/master/notebooks/lab_scip_2.ipynb\">\n",
    "  <img src=\"https://colab.research.google.com/assets/colab-badge.svg\" alt=\"Open In Colab\"/>\n",
    "</a>"
   ]
  },
  {
   "attachments": {},
   "cell_type": "markdown",
   "metadata": {},
   "source": [
    "# Solving MILP Problems in Python - Part 2\n",
    "\n",
    "## The Diet Example\n",
    "\n",
    "So far we have written models with embedded data. However, when building\n",
    "an optimization model, it is typical to separate the optimization model\n",
    "itself from the data used to create an instance of the model. These two\n",
    "model ingredients are often stored in completely different files.\n",
    "\n",
    "There are alternate approaches to providing data to the optimization\n",
    "model: they can be embedded in the source file, read from an SQL\n",
    "database (using the Python sqlite3 package), or read them from an Excel\n",
    "spreadsheet (using the Python xlrd package) and more.\n",
    "\n",
    "#### Diet Problem\n",
    "\n",
    "Bob wants to plan a nutritious diet, but he is on a limited budget, so\n",
    "he wants to spend as little money as possible. His nutritional\n",
    "requirements are as follows:\n",
    "```\n",
    "  ----------------\n",
    "  2000 Kcal\n",
    "  55 g protein\n",
    "  800 mg calcium\n",
    "  ----------------\n",
    "```\n",
    "Bob is considering the following foods with corresponding nutritional\n",
    "values\n",
    "```\n",
    "                Serving Size   Price per serving   Energy (Kcal)   Protein (g)   Calcium (mg)\n",
    "  ----------- -------------- ------------------- --------------- ------------- --------------\n",
    "  Oatmeal               28 g                 0.3             110             4              2\n",
    "  Chicken              100 g                 2.4             205            32             12\n",
    "  Eggs               2 large                 1.3             160            13             54\n",
    "  Milk                237 cc                 0.9             160             8            285\n",
    "  Apple Pie            170 g                   2             420             4             22\n",
    "  Pork                 260 g                 1.9             260            14             80\n",
    "```\n",
    "\n",
    "With the help of Python/SCIP, find the amount of servings of each type\n",
    "of food in the diet.\n",
    "\n",
    "We specify the model independently from the data. We could put the model in a file, eg, `dietmodel.py` and the data in another file, eg, `diet1.py`. Make\n",
    "sure you understand the model and the use of the `quicksum` function also reading the documentation.\n"
   ]
  },
  {
   "cell_type": "code",
   "execution_count": 61,
   "metadata": {},
   "outputs": [
    {
     "name": "stdout",
     "output_type": "stream",
     "text": [
      "Looking in indexes: https://pypi.gurobi.com\n",
      "Requirement already satisfied: gurobipy in /usr/local/lib/python3.8/dist-packages (9.1.2)\n",
      "Note: you may need to restart the kernel to use updated packages.\n"
     ]
    }
   ],
   "source": [
    "%pip install pyscipopt"
   ]
  },
  {
   "cell_type": "code",
   "execution_count": 1,
   "metadata": {},
   "outputs": [],
   "source": [
    "import pyscipopt as pso"
   ]
  },
  {
   "cell_type": "code",
   "execution_count": 10,
   "metadata": {},
   "outputs": [],
   "source": [
    "def solve(categories, minNutrition, maxNutrition, foods, cost, nutritionValues):\n",
    "    # Model\n",
    "    m = pso.Model(\"diet\")\n",
    "\n",
    "    # Create decision variables for the nutrition information,\n",
    "    # which we limit via bounds\n",
    "    nutrition = {}\n",
    "    for c in categories:\n",
    "        nutrition[c] = m.addVar(lb=minNutrition[c], ub=maxNutrition[c], name=c)\n",
    "\n",
    "    # Create decision variables for the foods to buy\n",
    "    buy = {}\n",
    "    for f in foods:\n",
    "        buy[f] = m.addVar(obj=cost[f], name=f)\n",
    "\n",
    "    # The objective is to minimize the costs\n",
    "    m.setMinimize()\n",
    "\n",
    "    # Nutrition constraints\n",
    "    for c in categories:\n",
    "        m.addCons(\n",
    "            pso.quicksum(nutritionValues[f, c] * buy[f] for f in foods) == nutrition[c],\n",
    "            c)\n",
    "\n",
    "    def printSolution():\n",
    "        if m.getStatus() == \"optimal\":\n",
    "            print('\\nCost: %g' % m.getObjVal())\n",
    "            print('\\nBuy:')\n",
    "            for f in foods:\n",
    "                if m.getVal(buy[f]) > 0.0001:\n",
    "                    print('%s %g' % (f, m.getVal(buy[f])))\n",
    "            print('\\nNutrition:')\n",
    "            for c in categories:\n",
    "                print('%s %g' % (c, m.getVal(nutrition[c])))\n",
    "        else:\n",
    "            print('No solution')\n",
    "\n",
    "    # Solve\n",
    "    m.writeProblem(\"diet.lp\")\n",
    "    m.optimize()\n",
    "    printSolution()\n"
   ]
  },
  {
   "attachments": {},
   "cell_type": "markdown",
   "metadata": {},
   "source": [
    "To arrange the data in Python data structures we use another global function from pyscipopt:\n",
    "[`multidict`](http://www.gurobi.com/documentation/current/refman/py_python_api_details.html). Here is an example of what it\n",
    "does:"
   ]
  },
  {
   "cell_type": "code",
   "execution_count": 3,
   "metadata": {},
   "outputs": [
    {
     "name": "stdout",
     "output_type": "stream",
     "text": [
      "['key1', 'key2', 'key3'] {'key1': 1, 'key2': 1, 'key3': 1} {'key1': 2, 'key2': 3, 'key3': 4}\n"
     ]
    }
   ],
   "source": [
    "keys, dict1, dict2 = pso.multidict( {\n",
    "        'key1': [1, 2],\n",
    "        'key2': [1, 3],\n",
    "        'key3': [1, 4] } )\n",
    "print(keys, dict1, dict2)"
   ]
  },
  {
   "cell_type": "code",
   "execution_count": 8,
   "metadata": {},
   "outputs": [],
   "source": [
    "categories, minNutrition, maxNutrition = pso.multidict({\n",
    "  'Calories': [1800, 2200],\n",
    "  'Protein':  [91, None],\n",
    "  'Calcium':   [0, 1779] })\n",
    "\n",
    "foods, cost = pso.multidict({\n",
    "\t'Oatmeal':           \t 0.30,\n",
    "\t'Chicken':\t\t 2.40,\n",
    "\t'Eggs':   \t         1.30,\n",
    "\t'Milk':             \t 0.90,\n",
    "\t'Apple Pie':           \t 2.00,\n",
    "\t'Pork':              \t 1.90});\n",
    "\n",
    "# Nutrition values for the foods\n",
    "nutritionValues = {\n",
    "('Oatmeal',           'Calories'  ):\t110, \n",
    "('Oatmeal',           'Protein' ):\t4,    \n",
    "('Oatmeal',           'Calcium' ):\t2,\n",
    "('Chicken',           'Calories'  ):\t205, \n",
    "('Chicken',           'Protein' ):\t32,    \n",
    "('Chicken',          'Calcium' ):\t12, \n",
    "('Eggs',              'Calories'  ):\t160,       \n",
    "('Eggs',              'Protein' ):\t13,   \n",
    "('Eggs',              'Calcium' ):\t54, \n",
    "('Milk',              'Calories'  ):\t160,       \n",
    "('Milk',             'Protein' ):\t8,            \n",
    "('Milk',              'Calcium' ):\t285,   \n",
    "('Apple Pie',        'Calories'  ):\t420, \n",
    "('Apple Pie',        'Protein' ):\t4,            \n",
    "('Apple Pie',        'Calcium' ):\t22, \n",
    "('Pork',              'Calories'  ):\t260, \n",
    "('Pork',              'Protein' ):\t14,           \n",
    "('Pork',              'Calcium' ):\t80 };\n"
   ]
  },
  {
   "cell_type": "markdown",
   "metadata": {},
   "source": [
    "If we put the code in the two files, then we could solve from `diet1.py` as follows:\n",
    "```python\n",
    "import dietmodel\n",
    "dietmodel.solve(categories, minNutrition, maxNutrition, foods, cost, nutritionValues)\n",
    "```"
   ]
  },
  {
   "cell_type": "markdown",
   "metadata": {},
   "source": [
    "Here it suffices calling:"
   ]
  },
  {
   "cell_type": "code",
   "execution_count": 11,
   "metadata": {},
   "outputs": [
    {
     "name": "stdout",
     "output_type": "stream",
     "text": [
      "wrote problem to file /home/marco/Teaching/Courses/DM871/dm871.github.io/notebooks/diet.lp\n",
      "\n",
      "Cost: 6.825\n",
      "\n",
      "Buy:\n",
      "Oatmeal 14.4241\n",
      "Chicken 1.04074\n",
      "\n",
      "Nutrition:\n",
      "Calories 1800\n",
      "Protein 91\n",
      "Calcium 41.337\n",
      "presolving:\n",
      "(round 1, fast)       3 del vars, 0 del conss, 0 add conss, 8 chg bounds, 0 chg sides, 0 chg coeffs, 0 upgd conss, 0 impls, 0 clqs\n",
      "(round 2, fast)       3 del vars, 0 del conss, 0 add conss, 8 chg bounds, 2 chg sides, 0 chg coeffs, 0 upgd conss, 0 impls, 0 clqs\n",
      "(round 3, fast)       3 del vars, 0 del conss, 0 add conss, 11 chg bounds, 2 chg sides, 0 chg coeffs, 0 upgd conss, 0 impls, 0 clqs\n",
      "   (0.0s) running MILP presolver\n",
      "   (0.0s) MILP presolver found nothing\n",
      "   (0.0s) symmetry computation started: requiring (bin +, int +, cont +), (fixed: bin -, int -, cont -)\n",
      "   (0.0s) no symmetry present\n",
      "presolving (4 rounds: 4 fast, 1 medium, 1 exhaustive):\n",
      " 3 deleted vars, 0 deleted constraints, 0 added constraints, 11 tightened bounds, 0 added holes, 2 changed sides, 0 changed coefficients\n",
      " 0 implications, 0 cliques\n",
      "presolved problem has 6 variables (0 bin, 0 int, 0 impl, 6 cont) and 3 constraints\n",
      "      3 constraints of type <linear>\n",
      "Presolving Time: 0.00\n",
      "\n",
      " time | node  | left  |LP iter|LP it/n|mem/heur|mdpt |vars |cons |rows |cuts |sepa|confs|strbr|  dualbound   | primalbound  |  gap   | compl. \n",
      "* 0.0s|     1 |     0 |     2 |     - |    LP  |   0 |   6 |   3 |   3 |   0 |  0 |   0 |   0 | 6.825000e+00 | 6.825000e+00 |   0.00%| unknown\n",
      "  0.0s|     1 |     0 |     2 |     - |   627k |   0 |   6 |   3 |   3 |   0 |  0 |   0 |   0 | 6.825000e+00 | 6.825000e+00 |   0.00%| unknown\n",
      "\n",
      "SCIP Status        : problem is solved [optimal solution found]\n",
      "Solving Time (sec) : 0.00\n",
      "Solving Nodes      : 1\n",
      "Primal Bound       : +6.82500000000000e+00 (1 solutions)\n",
      "Dual Bound         : +6.82500000000000e+00\n",
      "Gap                : 0.00 %\n"
     ]
    }
   ],
   "source": [
    "solve(categories, minNutrition, maxNutrition, foods, cost, nutritionValues)"
   ]
  },
  {
   "cell_type": "markdown",
   "metadata": {},
   "source": [
    "#### Your Task\n",
    "\n",
    "A pill salesman offers Bob Calories, Protein, and Calcium pills to\n",
    "fulfill his nutritional needs. He needs to estimate the prices of units\n",
    "of serving, that is, the cost of 1 kcal, the cost of 1 g of protein, the\n",
    "cost of 1 mg of calcium. He wants to make as much money as possible,\n",
    "given Bob's constraints. He knows that Bob wants 2200 kcal, 55 g\n",
    "protein, and 1779 mg calcium. How can we help him in guaranteeing that\n",
    "he does not make a bad deal?\n",
    "\n"
   ]
  },
  {
   "cell_type": "markdown",
   "metadata": {},
   "source": [
    "**Solution:**\n",
    "\n",
    "The dual seeks to maximize the profit of the salesman. Let $y_i \\geq 0$,\n",
    "$i\\in N$ be the prices of the pills.\n",
    "\n",
    "$$\\begin{aligned}\n",
    "\\text{min}\\quad &\\sum_{j \\in F}c_jx_j\\\\\n",
    "\\sum_{j\\in F} a_{ij}x_j&\\geq N_{min,i}, \\qquad\\forall i \\in N\\\\\n",
    "%\\sum_{j\\in F}a_{ij}x_{j}&\\leq N_{max,i}, \\qquad\\forall i \\in N\\\\\n",
    "x_j&\\geq 0, \\qquad \\forall j\\in F\\\\\n",
    "x_j&\\leq F_{max,j}, \\qquad \\forall j \\in F\\end{aligned}$$\n",
    "\n",
    "$$\\begin{aligned}\n",
    "\\text{max}\\quad &\\sum_{i \\in F}N_{min,i}y_i\\\\\n",
    "\\sum_{i\\in N} a_{ji}y_i&\\leq c_{j}, \\qquad\\forall j \\in F\\\\\n",
    "y_i&\\geq 0, \\qquad \\forall i\\in N\\\\\\end{aligned}$$\n",
    "\n",
    "However the values of the dual variables can be determined by the last\n",
    "tableau of the solution to the primal problem by printing the `Pi`\n",
    "attribute of the constraints."
   ]
  },
  {
   "cell_type": "markdown",
   "metadata": {},
   "source": [
    "\n",
    "# Particular Cases\n",
    "\n",
    "The two following LP problems lead to two particular cases when solved\n",
    "by the simplex algorithm. Identify these cases and characterize them,\n",
    "that is, give indication of which conditions generate them in general.\n",
    "Then, implement the models in Gurobi Python and observe the behaviour.\n",
    "\n",
    "$$\\begin{array}{rllllllllll}\n",
    "\\mbox{maximize} & 2x_1& +& x_2&\\\\\n",
    "    \\mbox{subject to} &&&   x_2&  \\leq &5&\\\\\n",
    "&                    - x_1& +& x_2 &\\leq &1& \\\\\n",
    "&              x_1, &&x_2&\\geq &0& \\\\\n",
    "\\end{array}$$\n",
    "\n",
    "$$\\begin{array}{rlllllllllll}\n",
    "\\mbox{maximize}& x_1 &+& x_2&\\\\\n",
    "    \\mbox{subject to} & 5 x_1& +& 10 x_2&  \\leq& 60&\\\\\n",
    "&                    4 x_1 &+ &4 x_2 &\\leq &40& \\\\\n",
    "&               x_1, &&x_2&\\geq &0& \\\\\n",
    "\\end{array}$$"
   ]
  },
  {
   "cell_type": "markdown",
   "metadata": {},
   "source": [
    "# Pathological Cases\n",
    "\n",
    "This exercise asks you to check the behavior of the solvers on the two\n",
    "pathological cases:\n",
    "\n",
    "$$\\begin{array}{rlllllllllll}\n",
    "\\mbox{maximize}&&& 4x_2&\\\\\n",
    "\\mbox{subject to}&&& 2x_2 &\\geq& 0\\\\\n",
    "& -3x_1& +&4 x_2& \\geq &1\\\\\n",
    "&       x_1, &&x_2&\\geq &0& \\\\\n",
    "\\end{array}$$\n",
    "\n",
    "$$\\begin{array}{rlllllllllll}\n",
    "\\mbox{maximize}\\ \\ \\   10x_1 -57 x_2 -9x_3-24x_4&\\\\\n",
    "    \\mbox{subject to}\\ \\   -0.5x_1+5.5x_2+2.5x_3-9x_4 &\\leq 0\\\\\n",
    "                                  -0.5 x_1 + 1.5 x_2 +0.5 x_3 -x_4& \\leq 0\\\\\n",
    "  x_1  &\\leq 1&\\\\\n",
    "               x_1, x_2, x_3, x_4&\\geq 0& \\\\\n",
    "\\end{array}$$\n",
    "\n",
    "What happens with the solver? Can you detect which pathological cases\n",
    "are from the output of the solver? How?\n"
   ]
  },
  {
   "attachments": {},
   "cell_type": "markdown",
   "metadata": {},
   "source": [
    "# Shortest Path\n",
    "\n",
    "Model the shortest path problem as an LP problem. Write the model in\n",
    "Python using the skeleton below that reads the coordinates of 20 data points.\n",
    "In this data the source is node 1\n",
    "and the target is node 20 and we assume that all connections between vertices are available except the direct link from source to target.\n",
    "\n",
    "Model the problem in LP and solve it with PySCIPOpt. Check the\n",
    "correctness of your solution with the help of the visualization in the\n",
    "template below.\n",
    "\n",
    "\n",
    "It may be worth looking at the example on the [transportation problem](https://scipopt.github.io/PySCIPOpt/docs/html/transp__nofn_8py_source.html).\n",
    "\n",
    "\n"
   ]
  },
  {
   "cell_type": "code",
   "execution_count": 73,
   "metadata": {},
   "outputs": [],
   "source": [
    "import math\n",
    "import pandas as pd\n",
    "import pyscipopt as pso\n",
    "\n",
    "\n",
    "url = 'https://dm871.github.io/assets/20points.csv'\n",
    "df = pd.read_csv(url, sep='\\t', header=None, names=('label','x','y'))\n",
    "points = {v: (x,y) for v,x,y in df.itertuples(index=False)}\n",
    "\n",
    "\n",
    "source = 1\n",
    "target = 20\n",
    "\n",
    "# calculate Euclidean distance and round-towards-zero (truncate)\n",
    "\n",
    "def distance(points, i, j):\n",
    "    dx = points[i][0] - points[j][0]\n",
    "    dy = points[i][1] - points[j][1]\n",
    "    return math.floor(math.sqrt(dx*dx + dy*dy))\n",
    "\n",
    "m=pso.Model()\n",
    "\n",
    "\n",
    "##############################################################################\n",
    "V = points.keys()\n",
    "A = [(i,j) for i in V for j in V if i!=j]\n",
    "A.remove((source,target))\n",
    "\n",
    "# Begin: Change here\n",
    "\n",
    "##############################################################################\n",
    "# Create variables\n",
    "##############################################################################\n",
    "x = {(v,u): m.addVar(A,obj=[distance(points,i,j) for i,j in A],vtype=\"C\",name='x')}\n",
    "\n",
    "\n",
    "##############################################################################\n",
    "# Post the constraints\n",
    "##############################################################################\n",
    "def balance(v):\n",
    "    if v==source:\n",
    "        return 1\n",
    "    if v==target:\n",
    "        return -1\n",
    "    return 0\n",
    "\n",
    "for v in V:\n",
    "    m.addConstr(pso.quicksum(x[v,u] for v,u in A.select(v,'*'))-gb.quicksum(x[u,v] for u,v in A.select('*',v))==balance(v))\n",
    "\n",
    "\n",
    "# End: Change here\n",
    "##############################################################################\n",
    "\n",
    "\n",
    "m.write(\"sp.lp\")\n",
    "#m.display()\n"
   ]
  },
  {
   "cell_type": "code",
   "execution_count": 68,
   "metadata": {},
   "outputs": [
    {
     "name": "stdout",
     "output_type": "stream",
     "text": [
      "Gurobi Optimizer version 9.1.2 build v9.1.2rc0 (linux64)\n",
      "Thread count: 4 physical cores, 8 logical processors, using up to 8 threads\n",
      "Optimize a model with 20 rows, 379 columns and 758 nonzeros\n",
      "Model fingerprint: 0xcf50fb07\n",
      "Coefficient statistics:\n",
      "  Matrix range     [1e+00, 1e+00]\n",
      "  Objective range  [2e+02, 5e+03]\n",
      "  Bounds range     [0e+00, 0e+00]\n",
      "  RHS range        [1e+00, 1e+00]\n",
      "Presolve time: 0.00s\n",
      "Presolved: 20 rows, 379 columns, 758 nonzeros\n",
      "\n",
      "Iteration    Objective       Primal Inf.    Dual Inf.      Time\n",
      "       0    0.0000000e+00   2.000000e+00   0.000000e+00      0s\n",
      "      16    5.3110000e+03   0.000000e+00   0.000000e+00      0s\n",
      "\n",
      "Solved in 16 iterations and 0.01 seconds\n",
      "Optimal objective  5.311000000e+03\n",
      "<filter object at 0x7f20fe1389d0>\n",
      "<map object at 0x7f20fdefe070>\n",
      "Optimal path: [(1, 10), (10, 20)]\n",
      "Optimal cost: 5311\n"
     ]
    }
   ],
   "source": [
    "m.optimize()\n",
    "solution = m.getAttr('x', x)\n",
    "\n",
    "selected = [(i,j) for i,j in A if solution[i,j] > 0.5]\n",
    "print(filter(lambda x: x[1]>0, solution.iteritems()))\n",
    "\n",
    "print( map(lambda i, j: distance(points, i, j), A))\n",
    "\n",
    "print('Optimal path: %s' % str(selected))\n",
    "print('Optimal cost: %g' % m.objVal)"
   ]
  },
  {
   "cell_type": "code",
   "execution_count": 69,
   "metadata": {},
   "outputs": [],
   "source": [
    "%matplotlib inline"
   ]
  },
  {
   "cell_type": "code",
   "execution_count": 70,
   "metadata": {},
   "outputs": [
    {
     "name": "stdout",
     "output_type": "stream",
     "text": [
      "{1: (287, 4582), 2: (392, 4764), 3: (450, 2927), 4: (722, 761), 5: (976, 1858), 6: (983, 1197), 7: (997, 3687), 8: (1400, 421), 9: (1710, 2522), 10: (1732, 3055), 11: (2712, 2296), 12: (2997, 1214), 13: (3121, 2473), 14: (3172, 917), 15: (3283, 4810), 16: (3317, 748), 17: (3521, 4748), 18: (3535, 1563), 19: (3887, 1388), 20: (3928, 714)} [(1, 10), (10, 20)]\n"
     ]
    },
    {
     "data": {
      "image/png": "[encoded data removed]",
      "text/plain": [
       "<Figure size 432x288 with 1 Axes>"
      ]
     },
     "metadata": {
      "needs_background": "light"
     },
     "output_type": "display_data"
    }
   ],
   "source": [
    "\n",
    "import matplotlib.pyplot as plt\n",
    "def plot_path(points, path, style='bo-'):\n",
    "    \"Plot lines to connect a series of points.\"\n",
    "    plt.plot([p[1][0] for p in points.items()], [p[1][1] for p in points.items()], 'bo')\n",
    "    plt.plot([points[source][0],points[target][0]],[points[source][1],points[target][1]], 'rs')\n",
    "    plt.plot([(points[p[0]][0],points[p[1]][0]) for p in path], \n",
    "             [(points[p[0]][1],points[p[1]][1]) for p in path], 'b-')\n",
    "    plt.axis('scaled'); plt.axis('off')\n",
    "    plt.show()\n",
    "\n",
    "print(points, selected)\n",
    "plot_path(points, selected)"
   ]
  }
 ],
 "metadata": {
  "kernelspec": {
   "display_name": "Python 3.9.1 64-bit",
   "metadata": {
    "interpreter": {
     "hash": "aee8b7b246df8f9039afb4144a1f6fd8d2ca17a180786b69acc140d282b71a49"
    }
   },
   "name": "python3"
  },
  "language_info": {
   "codemirror_mode": {
    "name": "ipython",
    "version": 3
   },
   "file_extension": ".py",
   "mimetype": "text/x-python",
   "name": "python",
   "nbconvert_exporter": "python",
   "pygments_lexer": "ipython3",
   "version": "3.10.6"
  },
  "orig_nbformat": 2
 },
 "nbformat": 4,
 "nbformat_minor": 2
}
