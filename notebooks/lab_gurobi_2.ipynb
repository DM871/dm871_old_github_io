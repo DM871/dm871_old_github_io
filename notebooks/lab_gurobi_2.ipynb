{
 "cells": [
  {
   "cell_type": "markdown",
   "metadata": {},
   "source": [
    "<a href=\"https://colab.research.google.com/github/DM871/dm871.github.io/blob/master/notebooks/lab_gurobi_2.ipynb\">\n",
    "  <img src=\"https://colab.research.google.com/assets/colab-badge.svg\" alt=\"Open In Colab\"/>\n",
    "</a>"
   ]
  },
  {
   "cell_type": "markdown",
   "metadata": {},
   "source": [
    "# Solving MILP Problems in Python - Part 2\n",
    "\n",
    "## The Diet Example\n",
    "\n",
    "So far we have written models with embedded data. However, when building\n",
    "an optimization model, it is typical to separate the optimization model\n",
    "itself from the data used to create an instance of the model. These two\n",
    "model ingredients are often stored in completely different files.\n",
    "\n",
    "There are alternate approaches to providing data to the optimization\n",
    "model: they can be embedded in the source file, read from an SQL\n",
    "database (using the Python sqlite3 package), or read them from an Excel\n",
    "spreadsheet (using the Python xlrd package) and more.\n",
    "\n",
    "#### Diet Problem\n",
    "\n",
    "Bob wants to plan a nutritious diet, but he is on a limited budget, so\n",
    "he wants to spend as little money as possible. His nutritional\n",
    "requirements are as follows:\n",
    "```\n",
    "  ----------------\n",
    "  2000 Kcal\n",
    "  55 g protein\n",
    "  800 mg calcium\n",
    "  ----------------\n",
    "```\n",
    "Bob is considering the following foods with corresponding nutritional\n",
    "values\n",
    "```\n",
    "                Serving Size   Price per serving   Energy (Kcal)   Protein (g)   Calcium (mg)\n",
    "  ----------- -------------- ------------------- --------------- ------------- --------------\n",
    "  Oatmeal               28 g                 0.3             110             4              2\n",
    "  Chicken              100 g                 2.4             205            32             12\n",
    "  Eggs               2 large                 1.3             160            13             54\n",
    "  Milk                237 cc                 0.9             160             8            285\n",
    "  Apple Pie            170 g                   2             420             4             22\n",
    "  Pork                 260 g                 1.9             260            14             80\n",
    "```\n",
    "With the help of Gurobi Python, find the amount of servings of each type\n",
    "of food in the diet.\n",
    "\n",
    "We specify the model independently from the data. We could put the model in a file, eg, `dietmodel.py` and the data in another file, eg, `diet1.py`. Make\n",
    "sure you understand the model and read about the Gurobi global function\n",
    "[`quicksum`](http://www.gurobi.com/documentation/current/refman/py_python_api_details.html).\n"
   ]
  },
  {
   "cell_type": "code",
   "execution_count": 1,
   "metadata": {},
   "outputs": [
    {
     "name": "stdout",
     "output_type": "stream",
     "text": [
      "Looking in indexes: https://pypi.gurobi.com\n",
      "Requirement already satisfied: gurobipy in /usr/local/lib/python3.8/dist-packages (9.1.2)\n",
      "Note: you may need to restart the kernel to use updated packages.\n"
     ]
    }
   ],
   "source": [
    "%pip install -i https://pypi.gurobi.com gurobipy"
   ]
  },
  {
   "cell_type": "code",
   "execution_count": 2,
   "metadata": {},
   "outputs": [],
   "source": [
    "import gurobipy as gp"
   ]
  },
  {
   "cell_type": "code",
   "execution_count": 3,
   "metadata": {},
   "outputs": [],
   "source": [
    "def solve(categories, minNutrition, maxNutrition, foods, cost, nutritionValues):\n",
    "    # Model\n",
    "    m = gp.Model(\"diet\")\n",
    "\n",
    "    # Create decision variables for the nutrition information,\n",
    "    # which we limit via bounds\n",
    "    nutrition = {}\n",
    "    for c in categories:\n",
    "        nutrition[c] = m.addVar(lb=minNutrition[c], ub=maxNutrition[c], name=c)\n",
    "\n",
    "    # Create decision variables for the foods to buy\n",
    "    buy = {}\n",
    "    for f in foods:\n",
    "        buy[f] = m.addVar(obj=cost[f], name=f)\n",
    "\n",
    "    # The objective is to minimize the costs\n",
    "    m.modelSense=gp.GRB.MINIMIZE\n",
    "\n",
    "    # Nutrition constraints\n",
    "    for c in categories:\n",
    "        m.addConstr(gp.quicksum(nutritionValues[f, c] * buy[f] for f in foods) == nutrition[c],c)\n",
    "\n",
    "    def printSolution():\n",
    "        if m.status == gp.GRB.status.OPTIMAL:\n",
    "            print('\\nCost: %g' % m.ObjVal)\n",
    "            print('\\nBuy:')\n",
    "            for f in foods:\n",
    "                if buy[f].X > 0.0001:\n",
    "                    print('%s %g' % (f, buy[f].X))\n",
    "            print('\\nNutrition:')\n",
    "            for c in categories:\n",
    "                print('%s %g' % (c, nutrition[c].X))\n",
    "        else:\n",
    "            print('No solution')\n",
    "\n",
    "    # Solve\n",
    "    m.update()\n",
    "    m.display()\n",
    "    m.write(\"diet.lp\")\n",
    "    m.optimize()\n",
    "    printSolution()"
   ]
  },
  {
   "cell_type": "markdown",
   "metadata": {},
   "source": [
    "To arrange the data in Python data structures we use another global function from Gurobi:\n",
    "[`multidict`](http://www.gurobi.com/documentation/current/refman/py_python_api_details.html). Here is an example of what it\n",
    "does:"
   ]
  },
  {
   "cell_type": "code",
   "execution_count": 4,
   "metadata": {},
   "outputs": [
    {
     "name": "stdout",
     "output_type": "stream",
     "text": [
      "['key1', 'key2', 'key3'] {'key1': 1, 'key2': 1, 'key3': 1} {'key1': 2, 'key2': 3, 'key3': 4}\n"
     ]
    }
   ],
   "source": [
    "keys, dict1, dict2 = gp.multidict( {\n",
    "        'key1': [1, 2],\n",
    "        'key2': [1, 3],\n",
    "        'key3': [1, 4] } )\n",
    "print(keys, dict1, dict2)"
   ]
  },
  {
   "cell_type": "code",
   "execution_count": 5,
   "metadata": {},
   "outputs": [],
   "source": [
    "categories, minNutrition, maxNutrition = gp.multidict({\n",
    "  'Calories': [1800, 2200],\n",
    "  'Protein':  [91, gp.GRB.INFINITY],\n",
    "  'Calcium':   [0, 1779] })\n",
    "\n",
    "foods, cost = gp.multidict({\n",
    "\t'Oatmeal':           \t 0.30,\n",
    "\t'Chicken':\t\t 2.40,\n",
    "\t'Eggs':   \t         1.30,\n",
    "\t'Milk':             \t 0.90,\n",
    "\t'Apple Pie':           \t 2.00,\n",
    "\t'Pork':              \t 1.90});\n",
    "\n",
    "# Nutrition values for the foods\n",
    "nutritionValues = {\n",
    "('Oatmeal',           'Calories'  ):\t110, \n",
    "('Oatmeal',           'Protein' ):\t4,    \n",
    "('Oatmeal',           'Calcium' ):\t2,\n",
    "('Chicken',           'Calories'  ):\t205, \n",
    "('Chicken',           'Protein' ):\t32,    \n",
    "('Chicken',          'Calcium' ):\t12, \n",
    "('Eggs',              'Calories'  ):\t160,       \n",
    "('Eggs',              'Protein' ):\t13,   \n",
    "('Eggs',              'Calcium' ):\t54, \n",
    "('Milk',              'Calories'  ):\t160,       \n",
    "('Milk',             'Protein' ):\t8,            \n",
    "('Milk',              'Calcium' ):\t285,   \n",
    "('Apple Pie',        'Calories'  ):\t420, \n",
    "('Apple Pie',        'Protein' ):\t4,            \n",
    "('Apple Pie',        'Calcium' ):\t22, \n",
    "('Pork',              'Calories'  ):\t260, \n",
    "('Pork',              'Protein' ):\t14,           \n",
    "('Pork',              'Calcium' ):\t80 };\n"
   ]
  },
  {
   "cell_type": "markdown",
   "metadata": {},
   "source": [
    "If we put the code in the two files, then we could solve from `diet1.py` as follows:\n",
    "```python\n",
    "import dietmodel\n",
    "dietmodel.solve(categories, minNutrition, maxNutrition, foods, cost, nutritionValues)\n",
    "```"
   ]
  },
  {
   "cell_type": "markdown",
   "metadata": {},
   "source": [
    "Here it suffices calling:"
   ]
  },
  {
   "cell_type": "code",
   "execution_count": 6,
   "metadata": {},
   "outputs": [
    {
     "name": "stdout",
     "output_type": "stream",
     "text": [
      "Academic license - for non-commercial use only - expires 2022-09-27\n",
      "Using license file /opt/gurobi/gurobi.lic\n",
      "Minimize\n",
      "   <gurobi.LinExpr: 0.3 Oatmeal + 2.4 Chicken + 1.3 Eggs + 0.9 Milk + 2.0 Apple Pie + 1.9 Pork>\n",
      "Subject To\n",
      "   Calories : <gurobi.LinExpr: -1.0 Calories + 110.0 Oatmeal + 205.0 Chicken + 160.0 Eggs + 160.0 Milk + 420.0 Apple Pie + 260.0 Pork> = 0.0\n",
      "   Protein : <gurobi.LinExpr: -1.0 Protein + 4.0 Oatmeal + 32.0 Chicken + 13.0 Eggs + 8.0 Milk + 4.0 Apple Pie + 14.0 Pork> = 0.0\n",
      "   Calcium : <gurobi.LinExpr: -1.0 Calcium + 2.0 Oatmeal + 12.0 Chicken + 54.0 Eggs + 285.0 Milk + 22.0 Apple Pie + 80.0 Pork> = 0.0\n",
      "Bounds\n",
      "   1800.0 <= Calories <= 2200.0\n",
      "   91.0 <= Protein <= inf\n",
      "   0.0 <= Calcium <= 1779.0\n",
      "Warning: variable name \"Apple Pie\" has a space\n",
      "Warning: to let Gurobi read it back, use rlp format\n",
      "Gurobi Optimizer version 9.1.2 build v9.1.2rc0 (linux64)\n",
      "Thread count: 4 physical cores, 8 logical processors, using up to 8 threads\n",
      "Optimize a model with 3 rows, 9 columns and 21 nonzeros\n",
      "Model fingerprint: 0xf9ce9747\n",
      "Coefficient statistics:\n",
      "  Matrix range     [1e+00, 4e+02]\n",
      "  Objective range  [3e-01, 2e+00]\n",
      "  Bounds range     [9e+01, 2e+03]\n",
      "  RHS range        [0e+00, 0e+00]\n",
      "Presolve removed 0 rows and 2 columns\n",
      "Presolve time: 0.00s\n",
      "Presolved: 3 rows, 7 columns, 19 nonzeros\n",
      "\n",
      "Iteration    Objective       Primal Inf.    Dual Inf.      Time\n",
      "       0    0.0000000e+00   1.017500e+02   0.000000e+00      0s\n",
      "       2    6.8250000e+00   0.000000e+00   0.000000e+00      0s\n",
      "\n",
      "Solved in 2 iterations and 0.01 seconds\n",
      "Optimal objective  6.825000000e+00\n",
      "\n",
      "Cost: 6.825\n",
      "\n",
      "Buy:\n",
      "Oatmeal 19.1648\n",
      "Chicken 0.448148\n",
      "\n",
      "Nutrition:\n",
      "Calories 2200\n",
      "Protein 91\n",
      "Calcium 43.7074\n"
     ]
    }
   ],
   "source": [
    "solve(categories, minNutrition, maxNutrition, foods, cost, nutritionValues)"
   ]
  },
  {
   "cell_type": "markdown",
   "metadata": {},
   "source": [
    "#### Your Task\n",
    "\n",
    "A pill salesman offers Bob Calories, Protein, and Calcium pills to\n",
    "fulfill his nutritional needs. He needs to estimate the prices of units\n",
    "of serving, that is, the cost of 1 kcal, the cost of 1 g of protein, the\n",
    "cost of 1 mg of calcium. He wants to make as much money as possible,\n",
    "given Bob's constraints. He knows that Bob wants 2200 kcal, 55 g\n",
    "protein, and 1779 mg calcium. How can we help him in guaranteeing that\n",
    "he does not make a bad deal?\n",
    "\n"
   ]
  },
  {
   "cell_type": "markdown",
   "metadata": {},
   "source": [
    "**Solution:**\n",
    "\n",
    "The dual seeks to maximize the profit of the salesman. Let $y_i \\geq 0$,\n",
    "$i\\in N$ be the prices of the pills.\n",
    "\n",
    "$$\\begin{aligned}\n",
    "\\text{min}\\quad &\\sum_{j \\in F}c_jx_j\\\\\n",
    "\\sum_{j\\in F} a_{ij}x_j&\\geq N_{min,i}, \\qquad\\forall i \\in N\\\\\n",
    "%\\sum_{j\\in F}a_{ij}x_{j}&\\leq N_{max,i}, \\qquad\\forall i \\in N\\\\\n",
    "x_j&\\geq 0, \\qquad \\forall j\\in F\\\\\n",
    "%x_j&\\leq F_{max,j}, \\qquad \\forall j \\in F\\end{aligned}$$\n",
    "\n",
    "$$\\begin{aligned}\n",
    "\\text{max}\\quad &\\sum_{i \\in F}N_{min,i}y_i\\\\\n",
    "\\sum_{i\\in N} a_{ji}y_i&\\leq c_{j}, \\qquad\\forall j \\in F\\\\\n",
    "y_i&\\geq 0, \\qquad \\forall i\\in N\\\\\\end{aligned}$$\n",
    "\n",
    "However the values of the dual variables can be determined by the last\n",
    "tableau of the solution to the primal problem by printing the `Pi`\n",
    "attribute of the constraints."
   ]
  },
  {
   "cell_type": "markdown",
   "metadata": {},
   "source": [
    "\n",
    "# Particular Cases\n",
    "\n",
    "The two following LP problems lead to two particular cases when solved\n",
    "by the simplex algorithm. Identify these cases and characterize them,\n",
    "that is, give indication of which conditions generate them in general.\n",
    "Then, implement the models in Gurobi Python and observe the behaviour.\n",
    "\n",
    "$$\\begin{array}{rllllllllll}\n",
    "\\mbox{maximize} & 2x_1& +& x_2&\\\\\n",
    "    \\mbox{subject to} &&&   x_2&  \\leq &5&\\\\\n",
    "&                    - x_1& +& x_2 &\\leq &1& \\\\\n",
    "&              x_1, &&x_2&\\geq &0& \\\\\n",
    "\\end{array}$$\n",
    "\n",
    "$$\\begin{array}{rlllllllllll}\n",
    "\\mbox{maximize}& x_1 &+& x_2&\\\\\n",
    "    \\mbox{subject to} & 5 x_1& +& 10 x_2&  \\leq& 60&\\\\\n",
    "&                    4 x_1 &+ &4 x_2 &\\leq &40& \\\\\n",
    "&               x_1, &&x_2&\\geq &0& \\\\\n",
    "\\end{array}$$"
   ]
  },
  {
   "cell_type": "markdown",
   "metadata": {},
   "source": [
    "# Pathological Cases\n",
    "\n",
    "This exercise asks you to check the behavior of the solvers on the two\n",
    "pathological cases:\n",
    "\n",
    "$$\\begin{array}{rlllllllllll}\n",
    "\\mbox{maximize}&&& 4x_2&\\\\\n",
    "\\mbox{subject to}&&& 2x_2 &\\geq& 0\\\\\n",
    "& -3x_1& +&4 x_2& \\geq &1\\\\\n",
    "&       x_1, &&x_2&\\geq &0& \\\\\n",
    "\\end{array}$$\n",
    "\n",
    "$$\\begin{array}{rlllllllllll}\n",
    "\\mbox{maximize}\\ \\ \\   10x_1 -57 x_2 -9x_3-24x_4&\\\\\n",
    "    \\mbox{subject to}\\ \\   -0.5x_1+5.5x_2+2.5x_3-9x_4 &\\leq 0\\\\\n",
    "                                  -0.5 x_1 + 1.5 x_2 +0.5 x_3 -x_4& \\leq 0\\\\\n",
    "  x_1  &\\leq 1&\\\\\n",
    "               x_1, x_2, x_3, x_4&\\geq 0& \\\\\n",
    "\\end{array}$$\n",
    "\n",
    "What happens with the solver? Can you detect which pathological cases\n",
    "are from the output of the solver? How?\n"
   ]
  },
  {
   "cell_type": "markdown",
   "metadata": {},
   "source": [
    "# Shortest Path\n",
    "\n",
    "Model the shortest path problem as an LP problem. Write the model in\n",
    "Python using the skeleton below and the data available from\n",
    "[<http://www.imada.sdu.dk/~marco/DM559/Files/SP/20points.txt>](https://www.imada.sdu.dk/~marco/DM559/Files/SP/20points.txt)\n",
    "In this data the source is node 1\n",
    "and the target is node 20.\n",
    "\n",
    "Model the problem in LP and solve it with Gurobi Python. Check the\n",
    "correctness of your solution with the help of the visualization in the\n",
    "template below.\n",
    "\n",
    "It may be worth looking at the examples `netflow` and `tsp` from the\n",
    "Gurobi documentation to get inspiration for the model. For the\n",
    "implementation it may be helpful using the Gurobi tuplelist class\n",
    "[tuplelist](https://www.gurobi.com/documentation/9.1/refman/py_tuplelist.html).\n",
    "\n"
   ]
  },
  {
   "cell_type": "code",
   "execution_count": 7,
   "metadata": {},
   "outputs": [
    {
     "ename": "FileNotFoundError",
     "evalue": "[Errno 2] No such file or directory: '-f'",
     "output_type": "error",
     "traceback": [
      "\u001b[0;31m---------------------------------------------------------------------------\u001b[0m",
      "\u001b[0;31mFileNotFoundError\u001b[0m                         Traceback (most recent call last)",
      "\u001b[0;32m<ipython-input-7-25453c3f391c>\u001b[0m in \u001b[0;36m<module>\u001b[0;34m\u001b[0m\n\u001b[1;32m      8\u001b[0m     \u001b[0mexit\u001b[0m\u001b[0;34m(\u001b[0m\u001b[0;36m1\u001b[0m\u001b[0;34m)\u001b[0m\u001b[0;34m\u001b[0m\u001b[0;34m\u001b[0m\u001b[0m\n\u001b[1;32m      9\u001b[0m \u001b[0;34m\u001b[0m\u001b[0m\n\u001b[0;32m---> 10\u001b[0;31m \u001b[0mf\u001b[0m \u001b[0;34m=\u001b[0m \u001b[0mopen\u001b[0m\u001b[0;34m(\u001b[0m\u001b[0msys\u001b[0m\u001b[0;34m.\u001b[0m\u001b[0margv\u001b[0m\u001b[0;34m[\u001b[0m\u001b[0;36m1\u001b[0m\u001b[0;34m]\u001b[0m\u001b[0;34m)\u001b[0m\u001b[0;34m\u001b[0m\u001b[0;34m\u001b[0m\u001b[0m\n\u001b[0m\u001b[1;32m     11\u001b[0m \u001b[0mlines\u001b[0m\u001b[0;34m=\u001b[0m\u001b[0mf\u001b[0m\u001b[0;34m.\u001b[0m\u001b[0mreadlines\u001b[0m\u001b[0;34m(\u001b[0m\u001b[0;34m)\u001b[0m\u001b[0;34m;\u001b[0m\u001b[0;34m\u001b[0m\u001b[0;34m\u001b[0m\u001b[0m\n\u001b[1;32m     12\u001b[0m \u001b[0mf\u001b[0m\u001b[0;34m.\u001b[0m\u001b[0mclose\u001b[0m\u001b[0;34m(\u001b[0m\u001b[0;34m)\u001b[0m\u001b[0;34m;\u001b[0m\u001b[0;34m\u001b[0m\u001b[0;34m\u001b[0m\u001b[0m\n",
      "\u001b[0;31mFileNotFoundError\u001b[0m: [Errno 2] No such file or directory: '-f'"
     ]
    }
   ],
   "source": [
    "import sys\n",
    "import math\n",
    "from gurobipy import *\n",
    "import matplotlib.pyplot as plt\n",
    "\n",
    "if len(sys.argv) < 2:\n",
    "    print('Usage: sp.py file')\n",
    "    exit(1)\n",
    "\n",
    "f = open(sys.argv[1])\n",
    "lines=f.readlines();\n",
    "f.close();\n",
    "\n",
    "N=0\n",
    "V=set()\n",
    "points={}\n",
    "for l in lines:\n",
    "    if l[0]!='#':\n",
    "        elem = l.split(\"\\t\")\n",
    "        if len(elem)==1:\n",
    "            N=int(elem[0])\n",
    "        elif len(elem)==3:\n",
    "            V.add(elem[0])\n",
    "            points[elem[0]]=(float(elem[1]),float(elem[2]))\n",
    "\n",
    "\n",
    "source = '1'\n",
    "target = str(len(points))\n",
    "\n",
    "# calculate Euclidean distance and round-towards-zero (truncate)\n",
    "\n",
    "def distance(points, i, j):\n",
    "    dx = points[i][0] - points[j][0]\n",
    "    dy = points[i][1] - points[j][1]\n",
    "    return math.floor(math.sqrt(dx*dx + dy*dy))\n",
    "\n",
    "m=Model()\n",
    "\n",
    "\n",
    "\n",
    "##############################################################################\n",
    "# Begin: Change here\n",
    "\n",
    "\n",
    "\n",
    "##############################################################################\n",
    "# Create variables\n",
    "##############################################################################\n",
    "\n",
    "\n",
    "##############################################################################\n",
    "# Post the constraints\n",
    "##############################################################################\n",
    "\n",
    "\n",
    "\n",
    "# End: Change here\n",
    "##############################################################################\n",
    "\n",
    "\n",
    "# Optimize model\n",
    "m.write(\"sp.lp\")\n",
    "m.display()\n",
    "m.optimize()\n",
    "\n",
    "solution = m.getAttr('x', vars)\n",
    "\n",
    "selected = [(i,j) for i,j in arcs if solution[i,j] > 0.5]\n",
    "print(filter(lambda x: x[1]>0, solution.iteritems()))\n",
    "\n",
    "print( map(lambda i, j: distance(points, i, j), arcs))\n",
    "\n",
    "print('')\n",
    "print('Optimal path: %s' % str(selected))\n",
    "print('Optimal cost: %g' % m.objVal)\n",
    "print('')\n",
    "\n",
    "    \n",
    "def plot_path(points, path, style='bo-'):\n",
    "    \"Plot lines to connect a series of points.\"\n",
    "    plt.plot(map(lambda x: x[1][0], points.iteritems()), map(lambda x: x[1][1], points.iteritems()), 'bo')\n",
    "    target = str(len(points))\n",
    "    plt.plot([points['1'][0],points[target][0]],[points['1'][1],points[target][1]], 'rs')\n",
    "    plt.plot(map(lambda x: (points[x[0]][0],points[x[1]][0]), path), \n",
    "             map(lambda x: (points[x[0]][1],points[x[1]][1]), path), 'b-')\n",
    "    plt.axis('scaled'); plt.axis('off')\n",
    "    plt.show()\n",
    "\n",
    "print(points, selected)\n",
    "plot_path(points, selected)"
   ]
  }
 ],
 "metadata": {
  "kernelspec": {
   "display_name": "Python 3.9.1 64-bit",
   "metadata": {
    "interpreter": {
     "hash": "aee8b7b246df8f9039afb4144a1f6fd8d2ca17a180786b69acc140d282b71a49"
    }
   },
   "name": "python3"
  },
  "language_info": {
   "codemirror_mode": {
    "name": "ipython",
    "version": 3
   },
   "file_extension": ".py",
   "mimetype": "text/x-python",
   "name": "python",
   "nbconvert_exporter": "python",
   "pygments_lexer": "ipython3",
   "version": "3.8.10"
  },
  "orig_nbformat": 2
 },
 "nbformat": 4,
 "nbformat_minor": 2
}
