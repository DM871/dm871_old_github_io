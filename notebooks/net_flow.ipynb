{
 "cells": [
  {
   "cell_type": "markdown",
   "metadata": {},
   "source": [
    "[![Open In Colab](https://colab.research.google.com/assets/colab-badge.svg)](https://colab.research.google.com/github/DM871/dm871.github.io/blob/main/notebooks/net_flow.ipynb)"
   ]
  },
  {
   "cell_type": "markdown",
   "metadata": {},
   "source": [
    "# Network flow exercise\n",
    "\n",
    "Given the network below with the directed graph and the capacities on arcs, determine the max flow from $1$ to $7$ and indicate the min cut. \n",
    "You can use the following approaches:\n",
    "- by hand using the Ford Fulkerson algorithm and depict all intermidiate residual networks after each iteration of the algorithm.\n",
    "- using spreadsheets\n",
    "- using Gurobi\n",
    "\n",
    "<img src=\"max_flow.jpg\" alt=\"drawing\" width=\"500\"/>\n"
   ]
  },
  {
   "cell_type": "markdown",
   "metadata": {},
   "source": [
    "To implement the mincost flow model in Gurobi Python the best starting point is perhaps the [mulitcommodity flow example](https://www.gurobi.com/documentation/9.1/examples/netflow_py.html) at Gurobi. In particular, it is worth observing the\n",
    "  use of the Gurobi data type `tuplelist` in the flow conservation constraints.\n",
    "\n",
    " It is first necessary to formulate the max flow problem as a min cost\n",
    " flow problem. This has been done in class and it is available from the slides.\n",
    " \n"
   ]
  },
  {
   "cell_type": "markdown",
   "metadata": {},
   "source": [
    "If we are working on Google Colab we import the Gurobi Python Module and other Python libraries. With Gurobi 9.1.1, a pip installation of the product will automatically include a size-limited (2000 variables, 2000 linear constraints, and 200 quadratic constraints) license that should work in a Docker container, which is used by Google Colab."
   ]
  },
  {
   "cell_type": "code",
   "execution_count": 6,
   "metadata": {},
   "outputs": [],
   "source": [
    "#%pip install -i https://pypi.gurobi.com gurobipy"
   ]
  },
  {
   "cell_type": "code",
   "execution_count": 7,
   "metadata": {},
   "outputs": [],
   "source": [
    "import gurobipy as gp\n",
    "from gurobipy import GRB"
   ]
  },
  {
   "cell_type": "markdown",
   "metadata": {},
   "source": [
    "We define the data representation of the network:"
   ]
  },
  {
   "cell_type": "code",
   "execution_count": 8,
   "metadata": {},
   "outputs": [],
   "source": [
    "nodes = ['a','b','c','d','e','f','g','h']\n",
    "\n",
    "arcs, capacity = gp.multidict({\n",
    "('a','b'): 15,\n",
    "('a','c'): 5,\n",
    "('a','d'): 10,\n",
    "('d','c'): 4,\n",
    "('c','b'): 4,\n",
    "('d','g'): 9,\n",
    "('d','f'): 15,\n",
    "('c','f'): 8,\n",
    "('b','e'): 30,\n",
    "('e','c'): 6,\n",
    "('g','f'): 15,\n",
    "('f','e'): 15,\n",
    "('g','h'): 10,\n",
    "('f','h'): 10,\n",
    "('e','h'): 10,\n",
    "('h','a'): GRB.INFINITY})\n",
    "\n",
    "# Needed for the alternative formulation\n",
    "#acs = gp.tuplist(arcs)\n",
    "\n",
    "cost = {\n",
    "('a','b'): 0,\n",
    "('a','c'): 0,\n",
    "('a','d'): 0,\n",
    "('d','c'): 0,\n",
    "('c','b'): 0,\n",
    "('d','g'): 0,\n",
    "('d','f'): 0,\n",
    "('c','f'): 0,\n",
    "('b','e'): 0,\n",
    "('e','c'): 0,\n",
    "('g','f'): 0,\n",
    "('f','e'): 0,\n",
    "('g','h'): 0,\n",
    "('f','h'): 0,\n",
    "('e','h'): 0,\n",
    "('h','a'): -1}\n",
    "\n",
    "inflow={\n",
    "'a':0,\n",
    "'b':0,\n",
    "'c':0,\n",
    "'d':0,\n",
    "'e':0,\n",
    "'f':0,\n",
    "'g':0,\n",
    "'h':0\n",
    "}\n"
   ]
  },
  {
   "cell_type": "code",
   "execution_count": 9,
   "metadata": {},
   "outputs": [
    {
     "name": "stdout",
     "output_type": "stream",
     "text": [
      "Gurobi Optimizer version 10.0.1 build v10.0.1rc0 (linux64)\n",
      "\n",
      "CPU model: Intel(R) Core(TM) i7-2600 CPU @ 3.40GHz, instruction set [SSE2|AVX]\n",
      "Thread count: 4 physical cores, 8 logical processors, using up to 8 threads\n",
      "\n",
      "Optimize a model with 280 rows, 16 columns and 304 nonzeros\n",
      "Model fingerprint: 0x7314d4c7\n",
      "Coefficient statistics:\n",
      "  Matrix range     [1e+00, 1e+00]\n",
      "  Objective range  [1e+00, 1e+00]\n",
      "  Bounds range     [0e+00, 0e+00]\n",
      "  RHS range        [4e+00, 1e+100]\n",
      "Warning: Model contains large rhs\n",
      "         Consider reformulating model or setting NumericFocus parameter\n",
      "         to avoid numerical issues.\n",
      "Presolve removed 275 rows and 4 columns\n",
      "Presolve time: 0.01s\n",
      "Presolved: 5 rows, 12 columns, 19 nonzeros\n",
      "\n",
      "Iteration    Objective       Primal Inf.    Dual Inf.      Time\n",
      "       0   -3.0000000e+01   1.050000e+01   0.000000e+00      0s\n",
      "       5   -2.8000000e+01   0.000000e+00   0.000000e+00      0s\n",
      "\n",
      "Solved in 5 iterations and 0.02 seconds (0.00 work units)\n",
      "Optimal objective -2.800000000e+01\n",
      "Warning: linear constraint 0 and linear constraint 16 have the same name \"cap[a,b]\"\n",
      "\n",
      "Optimal flow:\n",
      "a -> b: 15\n",
      "a -> c: 3\n",
      "a -> d: 10\n",
      "d -> g: 9\n",
      "d -> f: 1\n",
      "c -> f: 8\n",
      "b -> e: 15\n",
      "e -> c: 5\n",
      "g -> h: 9\n",
      "f -> h: 9\n",
      "e -> h: 10\n",
      "h -> a: 28\n",
      "\n",
      "Min cut:\n",
      "a -1.0\n",
      "b -1.0\n",
      "c -1.0\n",
      "d 0.0\n",
      "e -1.0\n",
      "f 0.0\n",
      "g 0.0\n",
      "h 0.0\n",
      "a b 0.0\n",
      "a c 0.0\n",
      "a d 0.0\n",
      "d c 0.0\n",
      "c b 0.0\n",
      "d g 0.0\n",
      "d f 0.0\n",
      "c f 0.0\n",
      "b e 0.0\n",
      "e c 0.0\n",
      "g f 0.0\n",
      "f e 0.0\n",
      "g h 0.0\n",
      "f h 0.0\n",
      "e h 0.0\n",
      "h a 0.0\n"
     ]
    }
   ],
   "source": [
    "# Create optimization model\n",
    "m = gp.Model('netflow')\n",
    "\n",
    "# Create variables\n",
    "flow = m.addVars(arcs, obj=cost, name=\"flow\")\n",
    "# Alternative way\n",
    "#flow = {}\n",
    "#for i,j in arcs:\n",
    "#    flow[i,j] = m.addVar(obj=cost[i,j],vtype=GRB.CONTINUOUS, name=f'flow({i},{j})')\n",
    "\n",
    "m.modelSense=GRB.MINIMIZE\n",
    "# Arc capacity constraints\n",
    "# using Python looping\n",
    "dual_w={}\n",
    "for i, j in arcs:\n",
    "    dual_w[i,j] = m.addConstrs( (flow[i, j] <= capacity[i, j] for i, j in arcs), \"cap\")\n",
    "    # Equivalent version\n",
    "    dual_w[i,j] = m.addConstr(flow[i, j] <= capacity[i, j], f\"cap[{i},{j}]\")\n",
    "    \n",
    "\n",
    "# Flow conservation constraints\n",
    "dual_pi={}\n",
    "for j in nodes:\n",
    "    dual_pi[j] = m.addConstr(gp.quicksum(flow[i,j] for i,j in arcs.select('*',j)) - gp.quicksum(flow[j,k] for j,k in arcs.select(j,'*'))==inflow[j], f'node({j})')    \n",
    "    # Equivalent version  \n",
    "    #dual_pi[j] = m.addConstr(flow.sum('*',j) - flow.sum(j,'*')==inflow[j], f'node({j})')\n",
    "\n",
    "\n",
    "# Compute optimal solution\n",
    "m.optimize()\n",
    "m.write(\"mincost.lp\")\n",
    "# Print solution\n",
    "if m.status == GRB.status.OPTIMAL:\n",
    "    solution = m.getAttr('x', flow)\n",
    "    print('\\nOptimal flow:')\n",
    "    for i,j in arcs:\n",
    "        if solution[i,j] > 0:\n",
    "            print('%s -> %s: %g' % (i, j, solution[i,j]))\n",
    "    print('\\nMin cut:')\n",
    "    # For the min cut\n",
    "    for i in nodes:\n",
    "        print(i, dual_pi[i].pi)\n",
    "    for i,j in arcs:\n",
    "        print(i,j,dual_w[i,j].pi)        \n"
   ]
  },
  {
   "cell_type": "markdown",
   "metadata": {},
   "source": [
    "## Networkx\n",
    "\n",
    "The module networkx implements several tools for working with graphs. An alternative is networkit.\n",
    "\n",
    "In networkx we can draw graphs:"
   ]
  },
  {
   "cell_type": "code",
   "execution_count": 10,
   "metadata": {},
   "outputs": [
    {
     "data": {
      "image/png": "[encoded data removed]",
      "text/plain": [
       "<Figure size 640x480 with 1 Axes>"
      ]
     },
     "metadata": {},
     "output_type": "display_data"
    },
    {
     "data": {
      "text/plain": [
       "<Figure size 640x480 with 0 Axes>"
      ]
     },
     "metadata": {},
     "output_type": "display_data"
    }
   ],
   "source": [
    "import networkx as nx\n",
    "import matplotlib.pyplot as plt\n",
    "from networkx.drawing.nx_pydot import write_dot\n",
    "\n",
    "G = nx.DiGraph()\n",
    "G.add_nodes_from(nodes)\n",
    "G.add_edges_from(arcs)\n",
    "\n",
    "pos=nx.spectral_layout(G)\n",
    "# pos = nx.kamada_kawai_layout(G) # alternative layout\n",
    "nx.draw(G, pos=pos, with_labels=True)\n",
    "#nx.draw_networkx_edge_labels(G,pos,edge_labels={e:G.edge[e[0]][e[1]][\"capacity\"] for e in G.edges()})\n",
    "plt.show()\n",
    "plt.savefig(\"graph.png\")\n",
    "\n",
    "#write_dot(G,\"graph.dot\")"
   ]
  },
  {
   "cell_type": "markdown",
   "metadata": {},
   "source": [
    "and use dedicated algorithms to solve common problems like the max flow problem:\n"
   ]
  },
  {
   "cell_type": "code",
   "execution_count": 11,
   "metadata": {},
   "outputs": [
    {
     "name": "stdout",
     "output_type": "stream",
     "text": [
      "28\n",
      "{'a': {'b': 13, 'c': 5, 'd': 10}, 'b': {'e': 13}, 'c': {'b': 0, 'f': 8}, 'd': {'c': 0, 'g': 9, 'f': 1}, 'g': {'f': 0, 'h': 9}, 'f': {'e': 0, 'h': 9}, 'e': {'c': 3, 'h': 10}, 'h': {}}\n"
     ]
    }
   ],
   "source": [
    "from networkx.algorithms.flow import shortest_augmenting_path\n",
    "\n",
    "G = nx.DiGraph()\n",
    "G.add_edge('a','b',capacity= 15)\n",
    "G.add_edge('a','c',capacity= 5)\n",
    "G.add_edge('a','d',capacity= 10)\n",
    "G.add_edge('d','c',capacity= 4)\n",
    "G.add_edge('c','b',capacity= 4)\n",
    "G.add_edge('d','g',capacity= 9)\n",
    "G.add_edge('d','f',capacity= 15)\n",
    "G.add_edge('c','f',capacity= 8)\n",
    "G.add_edge('b','e',capacity= 30)\n",
    "G.add_edge('e','c',capacity= 6)\n",
    "G.add_edge('g','f',capacity= 15)\n",
    "G.add_edge('f','e',capacity= 15)\n",
    "G.add_edge('g','h',capacity= 10)\n",
    "G.add_edge('f','h',capacity= 10)\n",
    "G.add_edge('e','h',capacity= 10)\n",
    "\n",
    "flow_value, flow_dict = nx.maximum_flow(G, 'a', 'h', flow_func=shortest_augmenting_path)\n",
    "print(flow_value)\n",
    "print(flow_dict)\n"
   ]
  },
  {
   "cell_type": "code",
   "execution_count": 12,
   "metadata": {},
   "outputs": [],
   "source": [
    "cut_value, partition = nx.minimum_cut(G, \"a\", \"h\")\n",
    "reachable, non_reachable = partition\n"
   ]
  },
  {
   "cell_type": "markdown",
   "metadata": {},
   "source": [
    "‘partition’ here is a tuple with the two sets of nodes that define the minimum cut. \n",
    "You can compute the cut set of edges that induce the minimum cut as follows:\n"
   ]
  },
  {
   "cell_type": "code",
   "execution_count": 13,
   "metadata": {},
   "outputs": [
    {
     "name": "stdout",
     "output_type": "stream",
     "text": [
      "[('a', 'd'), ('c', 'f'), ('e', 'h')]\n"
     ]
    },
    {
     "data": {
      "text/plain": [
       "True"
      ]
     },
     "execution_count": 13,
     "metadata": {},
     "output_type": "execute_result"
    }
   ],
   "source": [
    "cutset = set()\n",
    "for u, nbrs in ((n, G[n]) for n in reachable):\n",
    "    cutset.update((u, v) for v in nbrs if v in non_reachable)\n",
    "print(sorted(cutset))\n",
    "cut_value == sum(G.edges[u, v][\"capacity\"] for (u, v) in cutset)"
   ]
  }
 ],
 "metadata": {
  "kernelspec": {
   "display_name": "Python 3.9.1 64-bit",
   "metadata": {
    "interpreter": {
     "hash": "aee8b7b246df8f9039afb4144a1f6fd8d2ca17a180786b69acc140d282b71a49"
    }
   },
   "name": "python3"
  },
  "language_info": {
   "codemirror_mode": {
    "name": "ipython",
    "version": 3
   },
   "file_extension": ".py",
   "mimetype": "text/x-python",
   "name": "python",
   "nbconvert_exporter": "python",
   "pygments_lexer": "ipython3",
   "version": "3.10.6"
  },
  "orig_nbformat": 2
 },
 "nbformat": 4,
 "nbformat_minor": 2
}
